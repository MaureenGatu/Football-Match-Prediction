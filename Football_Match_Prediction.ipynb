{
  "nbformat": 4,
  "nbformat_minor": 0,
  "metadata": {
    "colab": {
      "name": "Football Match Prediction.ipynb",
      "provenance": [],
      "collapsed_sections": [
        "XecOwPNorl2W",
        "J4wfHZwQrs-t",
        "a9BPYqunry97",
        "7KMRBJ7zr9HD",
        "zSGyg6kWsBUl",
        "YfwPUt_7Qbup",
        "Ljuo277rvyiI",
        "hP6cj2gKaCJo",
        "iqx3yCT-x9Yk",
        "G27UwVrV0cQU",
        "21Q0UFPscadt",
        "mPXa91aS3jvG"
      ],
      "include_colab_link": true
    },
    "kernelspec": {
      "name": "python3",
      "display_name": "Python 3"
    }
  },
  "cells": [
    {
      "cell_type": "markdown",
      "metadata": {
        "id": "view-in-github",
        "colab_type": "text"
      },
      "source": [
        "<a href=\"https://colab.research.google.com/github/MaureenGatu/Football-Match-Prediction/blob/main/Football_Match_Prediction.ipynb\" target=\"_parent\"><img src=\"https://colab.research.google.com/assets/colab-badge.svg\" alt=\"Open In Colab\"/></a>"
      ]
    },
    {
      "cell_type": "markdown",
      "metadata": {
        "id": "xMxtPsqcTsSH"
      },
      "source": [
        "# **Football Match Prediction**"
      ]
    },
    {
      "cell_type": "markdown",
      "metadata": {
        "id": "kLG2VTrnTvYL"
      },
      "source": [
        "## 1. Defining the Question"
      ]
    },
    {
      "cell_type": "markdown",
      "metadata": {
        "id": "XecOwPNorl2W"
      },
      "source": [
        "### a) Specifying the Question"
      ]
    },
    {
      "cell_type": "markdown",
      "metadata": {
        "id": "8l3-hBO6bODP"
      },
      "source": [
        "\n",
        "> Mchezopesa Ltd has hired us as football analysts to forecast the outcome of a game between team 1 and team 2 based on who is at home and who is away, as well as whether or not the game is friendly.\n",
        "\n"
      ]
    },
    {
      "cell_type": "markdown",
      "metadata": {
        "id": "J4wfHZwQrs-t"
      },
      "source": [
        "### b) Defining the Metric for Success"
      ]
    },
    {
      "cell_type": "markdown",
      "metadata": {
        "id": "FalsIZ6SbT1g"
      },
      "source": [
        "\n",
        "\n",
        "> Perforn Exploratory analysis.\n",
        "Predict the number of goals the home team and away team will score.\n",
        "Determine if the game is a win, loss, or a tie from the standpoint of the home team (W, L, D)\n",
        "In prodective modeling, get an RMSE of less than 10% of the desired mean and a high accuracy rating\n",
        "\n"
      ]
    },
    {
      "cell_type": "markdown",
      "metadata": {
        "id": "a9BPYqunry97"
      },
      "source": [
        "### c) Understanding the context "
      ]
    },
    {
      "cell_type": "markdown",
      "metadata": {
        "id": "R_uctAKodfaO"
      },
      "source": [
        "\n",
        "\n",
        "> Belgium presently leads the men's FIFA World Rating, which is a ranking system for men's national football teams. The teams of FIFA's men's member nations are ranked based on their game results, with the most successful teams rated first. In December 1992, the rankings were established.\n",
        "\n",
        "\n",
        "> FIFA uses the rankings to rate the progress and existing capabilities of its member nations' national football teams, claiming that they provide \"a valid metric for comparing national A-teams.\" They are used to seed tournaments as part of the calculation or as the complete grounds.\n",
        "\n",
        "\n",
        "\n"
      ]
    },
    {
      "cell_type": "markdown",
      "metadata": {
        "id": "7KMRBJ7zr9HD"
      },
      "source": [
        "### d) Recording the Experimental Design"
      ]
    },
    {
      "cell_type": "markdown",
      "metadata": {
        "id": "PmTkoG1AeGOc"
      },
      "source": [
        "\n",
        "\n",
        "> Flow for the Research:\n",
        "\n",
        "1. Data preparation\n",
        "\n",
        "2. Eploratory analysis\n",
        "\n",
        "3. Feature engineering \n",
        "\n",
        "4. Check of multicollinearity\n",
        "\n",
        "5. Polynomial Regression\n",
        "\n",
        "6. Cross-validate the model\n",
        "\n",
        "7. Compute RMSE\n",
        "\n",
        "8. Logistic Regression\n",
        "\n",
        "9. Residual plots and  heteroscedasticity using Bartlett’s test\n",
        "\n",
        "10. Challenge your solution \n",
        "\n",
        "\n",
        "\n"
      ]
    },
    {
      "cell_type": "markdown",
      "metadata": {
        "id": "UOCsQ-784lx_"
      },
      "source": [
        "#Importing Libraries"
      ]
    },
    {
      "cell_type": "code",
      "metadata": {
        "id": "G9XHWnpG4kqo"
      },
      "source": [
        "#Import libraries for loading and cleaning data\n",
        "import numpy as np\n",
        "import pandas as pd\n",
        "\n",
        "import matplotlib.pyplot as plt\n",
        "\n",
        "\n",
        "from sklearn.linear_model import LinearRegression\n",
        "from sklearn.linear_model import LogisticRegression\n",
        "from sklearn.model_selection import KFold\n",
        "from sklearn.model_selection import train_test_split\n",
        "\n",
        "from sklearn import metrics\n",
        "import warnings\n",
        "warnings.filterwarnings('ignore') "
      ],
      "execution_count": 1,
      "outputs": []
    },
    {
      "cell_type": "markdown",
      "metadata": {
        "id": "iUNbvIvnT7ep"
      },
      "source": [
        "##  Reading the Data"
      ]
    },
    {
      "cell_type": "code",
      "metadata": {
        "id": "XJn2KjW-WMlG"
      },
      "source": [
        "# Loading the ranking Dataset\n",
        "rank=pd.read_csv('/content/fifa_ranking.csv')\n",
        "\n",
        "#Load the  results dataset\n",
        "results=pd.read_csv('/content/results.csv')"
      ],
      "execution_count": 2,
      "outputs": []
    },
    {
      "cell_type": "markdown",
      "metadata": {
        "id": "OI3P3YnHUEBk"
      },
      "source": [
        "## Checking the Data"
      ]
    },
    {
      "cell_type": "code",
      "metadata": {
        "id": "xHhTw5eKWr0n",
        "colab": {
          "base_uri": "https://localhost:8080/",
          "height": 312
        },
        "outputId": "ec6fb017-76b6-43ae-94c6-7e04960926da"
      },
      "source": [
        "# Previewing the top of the rabking  dataset\n",
        "rank.head()"
      ],
      "execution_count": 3,
      "outputs": [
        {
          "output_type": "execute_result",
          "data": {
            "text/html": [
              "<div>\n",
              "<style scoped>\n",
              "    .dataframe tbody tr th:only-of-type {\n",
              "        vertical-align: middle;\n",
              "    }\n",
              "\n",
              "    .dataframe tbody tr th {\n",
              "        vertical-align: top;\n",
              "    }\n",
              "\n",
              "    .dataframe thead th {\n",
              "        text-align: right;\n",
              "    }\n",
              "</style>\n",
              "<table border=\"1\" class=\"dataframe\">\n",
              "  <thead>\n",
              "    <tr style=\"text-align: right;\">\n",
              "      <th></th>\n",
              "      <th>rank</th>\n",
              "      <th>country_full</th>\n",
              "      <th>country_abrv</th>\n",
              "      <th>total_points</th>\n",
              "      <th>previous_points</th>\n",
              "      <th>rank_change</th>\n",
              "      <th>cur_year_avg</th>\n",
              "      <th>cur_year_avg_weighted</th>\n",
              "      <th>last_year_avg</th>\n",
              "      <th>last_year_avg_weighted</th>\n",
              "      <th>two_year_ago_avg</th>\n",
              "      <th>two_year_ago_weighted</th>\n",
              "      <th>three_year_ago_avg</th>\n",
              "      <th>three_year_ago_weighted</th>\n",
              "      <th>confederation</th>\n",
              "      <th>rank_date</th>\n",
              "    </tr>\n",
              "  </thead>\n",
              "  <tbody>\n",
              "    <tr>\n",
              "      <th>0</th>\n",
              "      <td>1</td>\n",
              "      <td>Germany</td>\n",
              "      <td>GER</td>\n",
              "      <td>0.0</td>\n",
              "      <td>57</td>\n",
              "      <td>0</td>\n",
              "      <td>0.0</td>\n",
              "      <td>0.0</td>\n",
              "      <td>0.0</td>\n",
              "      <td>0.0</td>\n",
              "      <td>0.0</td>\n",
              "      <td>0.0</td>\n",
              "      <td>0.0</td>\n",
              "      <td>0.0</td>\n",
              "      <td>UEFA</td>\n",
              "      <td>1993-08-08</td>\n",
              "    </tr>\n",
              "    <tr>\n",
              "      <th>1</th>\n",
              "      <td>2</td>\n",
              "      <td>Italy</td>\n",
              "      <td>ITA</td>\n",
              "      <td>0.0</td>\n",
              "      <td>57</td>\n",
              "      <td>0</td>\n",
              "      <td>0.0</td>\n",
              "      <td>0.0</td>\n",
              "      <td>0.0</td>\n",
              "      <td>0.0</td>\n",
              "      <td>0.0</td>\n",
              "      <td>0.0</td>\n",
              "      <td>0.0</td>\n",
              "      <td>0.0</td>\n",
              "      <td>UEFA</td>\n",
              "      <td>1993-08-08</td>\n",
              "    </tr>\n",
              "    <tr>\n",
              "      <th>2</th>\n",
              "      <td>3</td>\n",
              "      <td>Switzerland</td>\n",
              "      <td>SUI</td>\n",
              "      <td>0.0</td>\n",
              "      <td>50</td>\n",
              "      <td>9</td>\n",
              "      <td>0.0</td>\n",
              "      <td>0.0</td>\n",
              "      <td>0.0</td>\n",
              "      <td>0.0</td>\n",
              "      <td>0.0</td>\n",
              "      <td>0.0</td>\n",
              "      <td>0.0</td>\n",
              "      <td>0.0</td>\n",
              "      <td>UEFA</td>\n",
              "      <td>1993-08-08</td>\n",
              "    </tr>\n",
              "    <tr>\n",
              "      <th>3</th>\n",
              "      <td>4</td>\n",
              "      <td>Sweden</td>\n",
              "      <td>SWE</td>\n",
              "      <td>0.0</td>\n",
              "      <td>55</td>\n",
              "      <td>0</td>\n",
              "      <td>0.0</td>\n",
              "      <td>0.0</td>\n",
              "      <td>0.0</td>\n",
              "      <td>0.0</td>\n",
              "      <td>0.0</td>\n",
              "      <td>0.0</td>\n",
              "      <td>0.0</td>\n",
              "      <td>0.0</td>\n",
              "      <td>UEFA</td>\n",
              "      <td>1993-08-08</td>\n",
              "    </tr>\n",
              "    <tr>\n",
              "      <th>4</th>\n",
              "      <td>5</td>\n",
              "      <td>Argentina</td>\n",
              "      <td>ARG</td>\n",
              "      <td>0.0</td>\n",
              "      <td>51</td>\n",
              "      <td>5</td>\n",
              "      <td>0.0</td>\n",
              "      <td>0.0</td>\n",
              "      <td>0.0</td>\n",
              "      <td>0.0</td>\n",
              "      <td>0.0</td>\n",
              "      <td>0.0</td>\n",
              "      <td>0.0</td>\n",
              "      <td>0.0</td>\n",
              "      <td>CONMEBOL</td>\n",
              "      <td>1993-08-08</td>\n",
              "    </tr>\n",
              "  </tbody>\n",
              "</table>\n",
              "</div>"
            ],
            "text/plain": [
              "   rank country_full  ... confederation   rank_date\n",
              "0     1      Germany  ...          UEFA  1993-08-08\n",
              "1     2        Italy  ...          UEFA  1993-08-08\n",
              "2     3  Switzerland  ...          UEFA  1993-08-08\n",
              "3     4       Sweden  ...          UEFA  1993-08-08\n",
              "4     5    Argentina  ...      CONMEBOL  1993-08-08\n",
              "\n",
              "[5 rows x 16 columns]"
            ]
          },
          "metadata": {
            "tags": []
          },
          "execution_count": 3
        }
      ]
    },
    {
      "cell_type": "code",
      "metadata": {
        "id": "e9AzGcZFrIIr",
        "colab": {
          "base_uri": "https://localhost:8080/",
          "height": 312
        },
        "outputId": "81325c3d-1ed5-4688-8f6c-e55b194b071d"
      },
      "source": [
        "# Previewing the bottom of the ranking dataset\n",
        "rank.tail()"
      ],
      "execution_count": 4,
      "outputs": [
        {
          "output_type": "execute_result",
          "data": {
            "text/html": [
              "<div>\n",
              "<style scoped>\n",
              "    .dataframe tbody tr th:only-of-type {\n",
              "        vertical-align: middle;\n",
              "    }\n",
              "\n",
              "    .dataframe tbody tr th {\n",
              "        vertical-align: top;\n",
              "    }\n",
              "\n",
              "    .dataframe thead th {\n",
              "        text-align: right;\n",
              "    }\n",
              "</style>\n",
              "<table border=\"1\" class=\"dataframe\">\n",
              "  <thead>\n",
              "    <tr style=\"text-align: right;\">\n",
              "      <th></th>\n",
              "      <th>rank</th>\n",
              "      <th>country_full</th>\n",
              "      <th>country_abrv</th>\n",
              "      <th>total_points</th>\n",
              "      <th>previous_points</th>\n",
              "      <th>rank_change</th>\n",
              "      <th>cur_year_avg</th>\n",
              "      <th>cur_year_avg_weighted</th>\n",
              "      <th>last_year_avg</th>\n",
              "      <th>last_year_avg_weighted</th>\n",
              "      <th>two_year_ago_avg</th>\n",
              "      <th>two_year_ago_weighted</th>\n",
              "      <th>three_year_ago_avg</th>\n",
              "      <th>three_year_ago_weighted</th>\n",
              "      <th>confederation</th>\n",
              "      <th>rank_date</th>\n",
              "    </tr>\n",
              "  </thead>\n",
              "  <tbody>\n",
              "    <tr>\n",
              "      <th>57788</th>\n",
              "      <td>206</td>\n",
              "      <td>Anguilla</td>\n",
              "      <td>AIA</td>\n",
              "      <td>0.0</td>\n",
              "      <td>0</td>\n",
              "      <td>1</td>\n",
              "      <td>0.0</td>\n",
              "      <td>0.0</td>\n",
              "      <td>0.0</td>\n",
              "      <td>0.0</td>\n",
              "      <td>0.0</td>\n",
              "      <td>0.0</td>\n",
              "      <td>0.0</td>\n",
              "      <td>0.0</td>\n",
              "      <td>CONCACAF</td>\n",
              "      <td>2018-06-07</td>\n",
              "    </tr>\n",
              "    <tr>\n",
              "      <th>57789</th>\n",
              "      <td>206</td>\n",
              "      <td>Bahamas</td>\n",
              "      <td>BAH</td>\n",
              "      <td>0.0</td>\n",
              "      <td>0</td>\n",
              "      <td>1</td>\n",
              "      <td>0.0</td>\n",
              "      <td>0.0</td>\n",
              "      <td>0.0</td>\n",
              "      <td>0.0</td>\n",
              "      <td>0.0</td>\n",
              "      <td>0.0</td>\n",
              "      <td>0.0</td>\n",
              "      <td>0.0</td>\n",
              "      <td>CONCACAF</td>\n",
              "      <td>2018-06-07</td>\n",
              "    </tr>\n",
              "    <tr>\n",
              "      <th>57790</th>\n",
              "      <td>206</td>\n",
              "      <td>Eritrea</td>\n",
              "      <td>ERI</td>\n",
              "      <td>0.0</td>\n",
              "      <td>0</td>\n",
              "      <td>1</td>\n",
              "      <td>0.0</td>\n",
              "      <td>0.0</td>\n",
              "      <td>0.0</td>\n",
              "      <td>0.0</td>\n",
              "      <td>0.0</td>\n",
              "      <td>0.0</td>\n",
              "      <td>0.0</td>\n",
              "      <td>0.0</td>\n",
              "      <td>CAF</td>\n",
              "      <td>2018-06-07</td>\n",
              "    </tr>\n",
              "    <tr>\n",
              "      <th>57791</th>\n",
              "      <td>206</td>\n",
              "      <td>Somalia</td>\n",
              "      <td>SOM</td>\n",
              "      <td>0.0</td>\n",
              "      <td>0</td>\n",
              "      <td>1</td>\n",
              "      <td>0.0</td>\n",
              "      <td>0.0</td>\n",
              "      <td>0.0</td>\n",
              "      <td>0.0</td>\n",
              "      <td>0.0</td>\n",
              "      <td>0.0</td>\n",
              "      <td>0.0</td>\n",
              "      <td>0.0</td>\n",
              "      <td>CAF</td>\n",
              "      <td>2018-06-07</td>\n",
              "    </tr>\n",
              "    <tr>\n",
              "      <th>57792</th>\n",
              "      <td>206</td>\n",
              "      <td>Tonga</td>\n",
              "      <td>TGA</td>\n",
              "      <td>0.0</td>\n",
              "      <td>0</td>\n",
              "      <td>1</td>\n",
              "      <td>0.0</td>\n",
              "      <td>0.0</td>\n",
              "      <td>0.0</td>\n",
              "      <td>0.0</td>\n",
              "      <td>0.0</td>\n",
              "      <td>0.0</td>\n",
              "      <td>0.0</td>\n",
              "      <td>0.0</td>\n",
              "      <td>OFC</td>\n",
              "      <td>2018-06-07</td>\n",
              "    </tr>\n",
              "  </tbody>\n",
              "</table>\n",
              "</div>"
            ],
            "text/plain": [
              "       rank country_full  ... confederation   rank_date\n",
              "57788   206     Anguilla  ...      CONCACAF  2018-06-07\n",
              "57789   206      Bahamas  ...      CONCACAF  2018-06-07\n",
              "57790   206      Eritrea  ...           CAF  2018-06-07\n",
              "57791   206      Somalia  ...           CAF  2018-06-07\n",
              "57792   206        Tonga  ...           OFC  2018-06-07\n",
              "\n",
              "[5 rows x 16 columns]"
            ]
          },
          "metadata": {
            "tags": []
          },
          "execution_count": 4
        }
      ]
    },
    {
      "cell_type": "code",
      "metadata": {
        "colab": {
          "base_uri": "https://localhost:8080/",
          "height": 205
        },
        "id": "hK3Eelhp8CXd",
        "outputId": "8a5cf596-6572-42c2-b5f1-016483361253"
      },
      "source": [
        "#Preview of the top os the results dataset\n",
        "\n",
        "results.head()"
      ],
      "execution_count": 5,
      "outputs": [
        {
          "output_type": "execute_result",
          "data": {
            "text/html": [
              "<div>\n",
              "<style scoped>\n",
              "    .dataframe tbody tr th:only-of-type {\n",
              "        vertical-align: middle;\n",
              "    }\n",
              "\n",
              "    .dataframe tbody tr th {\n",
              "        vertical-align: top;\n",
              "    }\n",
              "\n",
              "    .dataframe thead th {\n",
              "        text-align: right;\n",
              "    }\n",
              "</style>\n",
              "<table border=\"1\" class=\"dataframe\">\n",
              "  <thead>\n",
              "    <tr style=\"text-align: right;\">\n",
              "      <th></th>\n",
              "      <th>date</th>\n",
              "      <th>home_team</th>\n",
              "      <th>away_team</th>\n",
              "      <th>home_score</th>\n",
              "      <th>away_score</th>\n",
              "      <th>tournament</th>\n",
              "      <th>city</th>\n",
              "      <th>country</th>\n",
              "      <th>neutral</th>\n",
              "    </tr>\n",
              "  </thead>\n",
              "  <tbody>\n",
              "    <tr>\n",
              "      <th>0</th>\n",
              "      <td>1872-11-30</td>\n",
              "      <td>Scotland</td>\n",
              "      <td>England</td>\n",
              "      <td>0</td>\n",
              "      <td>0</td>\n",
              "      <td>Friendly</td>\n",
              "      <td>Glasgow</td>\n",
              "      <td>Scotland</td>\n",
              "      <td>False</td>\n",
              "    </tr>\n",
              "    <tr>\n",
              "      <th>1</th>\n",
              "      <td>1873-03-08</td>\n",
              "      <td>England</td>\n",
              "      <td>Scotland</td>\n",
              "      <td>4</td>\n",
              "      <td>2</td>\n",
              "      <td>Friendly</td>\n",
              "      <td>London</td>\n",
              "      <td>England</td>\n",
              "      <td>False</td>\n",
              "    </tr>\n",
              "    <tr>\n",
              "      <th>2</th>\n",
              "      <td>1874-03-07</td>\n",
              "      <td>Scotland</td>\n",
              "      <td>England</td>\n",
              "      <td>2</td>\n",
              "      <td>1</td>\n",
              "      <td>Friendly</td>\n",
              "      <td>Glasgow</td>\n",
              "      <td>Scotland</td>\n",
              "      <td>False</td>\n",
              "    </tr>\n",
              "    <tr>\n",
              "      <th>3</th>\n",
              "      <td>1875-03-06</td>\n",
              "      <td>England</td>\n",
              "      <td>Scotland</td>\n",
              "      <td>2</td>\n",
              "      <td>2</td>\n",
              "      <td>Friendly</td>\n",
              "      <td>London</td>\n",
              "      <td>England</td>\n",
              "      <td>False</td>\n",
              "    </tr>\n",
              "    <tr>\n",
              "      <th>4</th>\n",
              "      <td>1876-03-04</td>\n",
              "      <td>Scotland</td>\n",
              "      <td>England</td>\n",
              "      <td>3</td>\n",
              "      <td>0</td>\n",
              "      <td>Friendly</td>\n",
              "      <td>Glasgow</td>\n",
              "      <td>Scotland</td>\n",
              "      <td>False</td>\n",
              "    </tr>\n",
              "  </tbody>\n",
              "</table>\n",
              "</div>"
            ],
            "text/plain": [
              "         date home_team away_team  ...     city   country neutral\n",
              "0  1872-11-30  Scotland   England  ...  Glasgow  Scotland   False\n",
              "1  1873-03-08   England  Scotland  ...   London   England   False\n",
              "2  1874-03-07  Scotland   England  ...  Glasgow  Scotland   False\n",
              "3  1875-03-06   England  Scotland  ...   London   England   False\n",
              "4  1876-03-04  Scotland   England  ...  Glasgow  Scotland   False\n",
              "\n",
              "[5 rows x 9 columns]"
            ]
          },
          "metadata": {
            "tags": []
          },
          "execution_count": 5
        }
      ]
    },
    {
      "cell_type": "code",
      "metadata": {
        "colab": {
          "base_uri": "https://localhost:8080/",
          "height": 205
        },
        "id": "UNH5A3-69Qry",
        "outputId": "443ee0e5-bc0c-4894-ece9-605f2b7cad9b"
      },
      "source": [
        "#preview the bottom of the results dataset\n",
        "\n",
        "results.tail()"
      ],
      "execution_count": 6,
      "outputs": [
        {
          "output_type": "execute_result",
          "data": {
            "text/html": [
              "<div>\n",
              "<style scoped>\n",
              "    .dataframe tbody tr th:only-of-type {\n",
              "        vertical-align: middle;\n",
              "    }\n",
              "\n",
              "    .dataframe tbody tr th {\n",
              "        vertical-align: top;\n",
              "    }\n",
              "\n",
              "    .dataframe thead th {\n",
              "        text-align: right;\n",
              "    }\n",
              "</style>\n",
              "<table border=\"1\" class=\"dataframe\">\n",
              "  <thead>\n",
              "    <tr style=\"text-align: right;\">\n",
              "      <th></th>\n",
              "      <th>date</th>\n",
              "      <th>home_team</th>\n",
              "      <th>away_team</th>\n",
              "      <th>home_score</th>\n",
              "      <th>away_score</th>\n",
              "      <th>tournament</th>\n",
              "      <th>city</th>\n",
              "      <th>country</th>\n",
              "      <th>neutral</th>\n",
              "    </tr>\n",
              "  </thead>\n",
              "  <tbody>\n",
              "    <tr>\n",
              "      <th>40834</th>\n",
              "      <td>2019-07-18</td>\n",
              "      <td>American Samoa</td>\n",
              "      <td>Tahiti</td>\n",
              "      <td>8</td>\n",
              "      <td>1</td>\n",
              "      <td>Pacific Games</td>\n",
              "      <td>Apia</td>\n",
              "      <td>Samoa</td>\n",
              "      <td>True</td>\n",
              "    </tr>\n",
              "    <tr>\n",
              "      <th>40835</th>\n",
              "      <td>2019-07-18</td>\n",
              "      <td>Fiji</td>\n",
              "      <td>Solomon Islands</td>\n",
              "      <td>4</td>\n",
              "      <td>4</td>\n",
              "      <td>Pacific Games</td>\n",
              "      <td>Apia</td>\n",
              "      <td>Samoa</td>\n",
              "      <td>True</td>\n",
              "    </tr>\n",
              "    <tr>\n",
              "      <th>40836</th>\n",
              "      <td>2019-07-19</td>\n",
              "      <td>Senegal</td>\n",
              "      <td>Algeria</td>\n",
              "      <td>0</td>\n",
              "      <td>1</td>\n",
              "      <td>African Cup of Nations</td>\n",
              "      <td>Cairo</td>\n",
              "      <td>Egypt</td>\n",
              "      <td>True</td>\n",
              "    </tr>\n",
              "    <tr>\n",
              "      <th>40837</th>\n",
              "      <td>2019-07-19</td>\n",
              "      <td>Tajikistan</td>\n",
              "      <td>North Korea</td>\n",
              "      <td>0</td>\n",
              "      <td>1</td>\n",
              "      <td>Intercontinental Cup</td>\n",
              "      <td>Ahmedabad</td>\n",
              "      <td>India</td>\n",
              "      <td>True</td>\n",
              "    </tr>\n",
              "    <tr>\n",
              "      <th>40838</th>\n",
              "      <td>2019-07-20</td>\n",
              "      <td>Papua New Guinea</td>\n",
              "      <td>Fiji</td>\n",
              "      <td>1</td>\n",
              "      <td>1</td>\n",
              "      <td>Pacific Games</td>\n",
              "      <td>Apia</td>\n",
              "      <td>Samoa</td>\n",
              "      <td>True</td>\n",
              "    </tr>\n",
              "  </tbody>\n",
              "</table>\n",
              "</div>"
            ],
            "text/plain": [
              "             date         home_team  ... country  neutral\n",
              "40834  2019-07-18    American Samoa  ...   Samoa     True\n",
              "40835  2019-07-18              Fiji  ...   Samoa     True\n",
              "40836  2019-07-19           Senegal  ...   Egypt     True\n",
              "40837  2019-07-19        Tajikistan  ...   India     True\n",
              "40838  2019-07-20  Papua New Guinea  ...   Samoa     True\n",
              "\n",
              "[5 rows x 9 columns]"
            ]
          },
          "metadata": {
            "tags": []
          },
          "execution_count": 6
        }
      ]
    },
    {
      "cell_type": "code",
      "metadata": {
        "colab": {
          "base_uri": "https://localhost:8080/"
        },
        "id": "bojMuij5ESFG",
        "outputId": "3b6be1ed-2093-4111-874d-214c2a26d2df"
      },
      "source": [
        "#checking the sahpe of the two datasets\n",
        "\n",
        "print(f'Size of results dataset : {results.shape}')\n",
        "print(f'Size of rank dataset : {rank.shape}')"
      ],
      "execution_count": 7,
      "outputs": [
        {
          "output_type": "stream",
          "text": [
            "Size of results dataset : (40839, 9)\n",
            "Size of rank dataset : (57793, 16)\n"
          ],
          "name": "stdout"
        }
      ]
    },
    {
      "cell_type": "code",
      "metadata": {
        "id": "YjSVNwgptHxY",
        "colab": {
          "base_uri": "https://localhost:8080/"
        },
        "outputId": "50630126-56ba-4c1e-b30a-836b1dfd68b6"
      },
      "source": [
        "# Checking the information on the ranking dataset and the column data types\n",
        "rank.info()"
      ],
      "execution_count": 8,
      "outputs": [
        {
          "output_type": "stream",
          "text": [
            "<class 'pandas.core.frame.DataFrame'>\n",
            "RangeIndex: 57793 entries, 0 to 57792\n",
            "Data columns (total 16 columns):\n",
            " #   Column                   Non-Null Count  Dtype  \n",
            "---  ------                   --------------  -----  \n",
            " 0   rank                     57793 non-null  int64  \n",
            " 1   country_full             57793 non-null  object \n",
            " 2   country_abrv             57793 non-null  object \n",
            " 3   total_points             57793 non-null  float64\n",
            " 4   previous_points          57793 non-null  int64  \n",
            " 5   rank_change              57793 non-null  int64  \n",
            " 6   cur_year_avg             57793 non-null  float64\n",
            " 7   cur_year_avg_weighted    57793 non-null  float64\n",
            " 8   last_year_avg            57793 non-null  float64\n",
            " 9   last_year_avg_weighted   57793 non-null  float64\n",
            " 10  two_year_ago_avg         57793 non-null  float64\n",
            " 11  two_year_ago_weighted    57793 non-null  float64\n",
            " 12  three_year_ago_avg       57793 non-null  float64\n",
            " 13  three_year_ago_weighted  57793 non-null  float64\n",
            " 14  confederation            57793 non-null  object \n",
            " 15  rank_date                57793 non-null  object \n",
            "dtypes: float64(9), int64(3), object(4)\n",
            "memory usage: 7.1+ MB\n"
          ],
          "name": "stdout"
        }
      ]
    },
    {
      "cell_type": "code",
      "metadata": {
        "id": "n8-dW4sQWzbc",
        "colab": {
          "base_uri": "https://localhost:8080/"
        },
        "outputId": "e0fdce8c-168c-4c33-e062-ea37e0fd4544"
      },
      "source": [
        "# Checking the information on the results dataset and the column data types\n",
        "results.info()"
      ],
      "execution_count": 9,
      "outputs": [
        {
          "output_type": "stream",
          "text": [
            "<class 'pandas.core.frame.DataFrame'>\n",
            "RangeIndex: 40839 entries, 0 to 40838\n",
            "Data columns (total 9 columns):\n",
            " #   Column      Non-Null Count  Dtype \n",
            "---  ------      --------------  ----- \n",
            " 0   date        40839 non-null  object\n",
            " 1   home_team   40839 non-null  object\n",
            " 2   away_team   40839 non-null  object\n",
            " 3   home_score  40839 non-null  int64 \n",
            " 4   away_score  40839 non-null  int64 \n",
            " 5   tournament  40839 non-null  object\n",
            " 6   city        40839 non-null  object\n",
            " 7   country     40839 non-null  object\n",
            " 8   neutral     40839 non-null  bool  \n",
            "dtypes: bool(1), int64(2), object(6)\n",
            "memory usage: 2.5+ MB\n"
          ],
          "name": "stdout"
        }
      ]
    },
    {
      "cell_type": "markdown",
      "metadata": {
        "id": "XLeosJICNcU2"
      },
      "source": [
        "#Data Preparation"
      ]
    },
    {
      "cell_type": "markdown",
      "metadata": {
        "id": "YfwPUt_7Qbup"
      },
      "source": [
        "##Data Cleaning"
      ]
    },
    {
      "cell_type": "code",
      "metadata": {
        "colab": {
          "base_uri": "https://localhost:8080/"
        },
        "id": "T7862a_yDMln",
        "outputId": "665da408-6c04-4db2-8434-60ad82a0660b"
      },
      "source": [
        "#change date  data types into date type format\n",
        "results['date'] = pd.to_datetime(results['date'])\n",
        "rank['rank_date'] = pd.to_datetime(rank['rank_date'])\n",
        "\n",
        "#confirming that the changes have been effected.\n",
        "print(results.dtypes)\n",
        "print(' ')\n",
        "print(rank.dtypes)"
      ],
      "execution_count": 10,
      "outputs": [
        {
          "output_type": "stream",
          "text": [
            "date          datetime64[ns]\n",
            "home_team             object\n",
            "away_team             object\n",
            "home_score             int64\n",
            "away_score             int64\n",
            "tournament            object\n",
            "city                  object\n",
            "country               object\n",
            "neutral                 bool\n",
            "dtype: object\n",
            " \n",
            "rank                                int64\n",
            "country_full                       object\n",
            "country_abrv                       object\n",
            "total_points                      float64\n",
            "previous_points                     int64\n",
            "rank_change                         int64\n",
            "cur_year_avg                      float64\n",
            "cur_year_avg_weighted             float64\n",
            "last_year_avg                     float64\n",
            "last_year_avg_weighted            float64\n",
            "two_year_ago_avg                  float64\n",
            "two_year_ago_weighted             float64\n",
            "three_year_ago_avg                float64\n",
            "three_year_ago_weighted           float64\n",
            "confederation                      object\n",
            "rank_date                  datetime64[ns]\n",
            "dtype: object\n"
          ],
          "name": "stdout"
        }
      ]
    },
    {
      "cell_type": "code",
      "metadata": {
        "id": "urmsvZBsuDjG",
        "colab": {
          "base_uri": "https://localhost:8080/",
          "height": 0
        },
        "outputId": "959ac62e-5ab8-4dce-d3c2-2c4917b191b9"
      },
      "source": [
        "# #dropint the columns that shall not be used i the analysis.\n",
        "rank.drop(['country_abrv','total_points','previous_points','cur_year_avg',\n",
        "           'cur_year_avg_weighted', 'last_year_avg','last_year_avg_weighted','two_year_ago_avg',\n",
        "           'two_year_ago_weighted','three_year_ago_avg','three_year_ago_weighted'], axis = 1, inplace = True)\n",
        "\n",
        "# let us confirm that we have dropped the unnecessary columns\n",
        "rank.head()"
      ],
      "execution_count": 11,
      "outputs": [
        {
          "output_type": "execute_result",
          "data": {
            "text/html": [
              "<div>\n",
              "<style scoped>\n",
              "    .dataframe tbody tr th:only-of-type {\n",
              "        vertical-align: middle;\n",
              "    }\n",
              "\n",
              "    .dataframe tbody tr th {\n",
              "        vertical-align: top;\n",
              "    }\n",
              "\n",
              "    .dataframe thead th {\n",
              "        text-align: right;\n",
              "    }\n",
              "</style>\n",
              "<table border=\"1\" class=\"dataframe\">\n",
              "  <thead>\n",
              "    <tr style=\"text-align: right;\">\n",
              "      <th></th>\n",
              "      <th>rank</th>\n",
              "      <th>country_full</th>\n",
              "      <th>rank_change</th>\n",
              "      <th>confederation</th>\n",
              "      <th>rank_date</th>\n",
              "    </tr>\n",
              "  </thead>\n",
              "  <tbody>\n",
              "    <tr>\n",
              "      <th>0</th>\n",
              "      <td>1</td>\n",
              "      <td>Germany</td>\n",
              "      <td>0</td>\n",
              "      <td>UEFA</td>\n",
              "      <td>1993-08-08</td>\n",
              "    </tr>\n",
              "    <tr>\n",
              "      <th>1</th>\n",
              "      <td>2</td>\n",
              "      <td>Italy</td>\n",
              "      <td>0</td>\n",
              "      <td>UEFA</td>\n",
              "      <td>1993-08-08</td>\n",
              "    </tr>\n",
              "    <tr>\n",
              "      <th>2</th>\n",
              "      <td>3</td>\n",
              "      <td>Switzerland</td>\n",
              "      <td>9</td>\n",
              "      <td>UEFA</td>\n",
              "      <td>1993-08-08</td>\n",
              "    </tr>\n",
              "    <tr>\n",
              "      <th>3</th>\n",
              "      <td>4</td>\n",
              "      <td>Sweden</td>\n",
              "      <td>0</td>\n",
              "      <td>UEFA</td>\n",
              "      <td>1993-08-08</td>\n",
              "    </tr>\n",
              "    <tr>\n",
              "      <th>4</th>\n",
              "      <td>5</td>\n",
              "      <td>Argentina</td>\n",
              "      <td>5</td>\n",
              "      <td>CONMEBOL</td>\n",
              "      <td>1993-08-08</td>\n",
              "    </tr>\n",
              "  </tbody>\n",
              "</table>\n",
              "</div>"
            ],
            "text/plain": [
              "   rank country_full  rank_change confederation  rank_date\n",
              "0     1      Germany            0          UEFA 1993-08-08\n",
              "1     2        Italy            0          UEFA 1993-08-08\n",
              "2     3  Switzerland            9          UEFA 1993-08-08\n",
              "3     4       Sweden            0          UEFA 1993-08-08\n",
              "4     5    Argentina            5      CONMEBOL 1993-08-08"
            ]
          },
          "metadata": {
            "tags": []
          },
          "execution_count": 11
        }
      ]
    },
    {
      "cell_type": "code",
      "metadata": {
        "colab": {
          "base_uri": "https://localhost:8080/"
        },
        "id": "5frGA8zxEVGC",
        "outputId": "a845f49e-c5f4-4e0e-8da7-ff8fea22c41f"
      },
      "source": [
        "# Extrecting the year and the month form the date column onto new columns of month and year\n",
        "\n",
        "#Ranking dataset\n",
        "rank['year'] = rank['rank_date'].dt.year\n",
        "rank['month'] = rank['rank_date'].dt.month\n",
        "print(rank.head(2))\n",
        "print(' ')\n",
        "print('....'*30)\n",
        "#results dataset\n",
        "results['year'] = results['date'].dt.year\n",
        "results['month'] = results['date'].dt.month\n",
        "print(results.head(2))"
      ],
      "execution_count": 12,
      "outputs": [
        {
          "output_type": "stream",
          "text": [
            "   rank country_full  rank_change confederation  rank_date  year  month\n",
            "0     1      Germany            0          UEFA 1993-08-08  1993      8\n",
            "1     2        Italy            0          UEFA 1993-08-08  1993      8\n",
            " \n",
            "........................................................................................................................\n",
            "        date home_team away_team  home_score  ...   country neutral  year month\n",
            "0 1872-11-30  Scotland   England           0  ...  Scotland   False  1872    11\n",
            "1 1873-03-08   England  Scotland           4  ...   England   False  1873     3\n",
            "\n",
            "[2 rows x 11 columns]\n"
          ],
          "name": "stdout"
        }
      ]
    },
    {
      "cell_type": "code",
      "metadata": {
        "colab": {
          "base_uri": "https://localhost:8080/"
        },
        "id": "rE6RNMN-_toj",
        "outputId": "67d870fc-5359-4b5b-da71-c3ad615eac67"
      },
      "source": [
        "# confirming if the two datasets are from the same timeframes\n",
        "\n",
        "#ranking dataset years\n",
        "print(rank.year.unique())\n",
        "print(' ')\n",
        "print('Total number of years in the ranking dateset ' ,rank.year.nunique())\n",
        "print(' ')\n",
        "print('...'*20)\n",
        "print(' ')\n",
        "\n",
        "#results dataset years\n",
        "print(results.year.unique())\n",
        "print(' ')\n",
        "print('Total number of years in the results dateset ' ,results.year.nunique())"
      ],
      "execution_count": 13,
      "outputs": [
        {
          "output_type": "stream",
          "text": [
            "[1993 1994 1995 1996 1997 1998 1999 2000 2001 2002 2003 2004 2005 2006\n",
            " 2007 2008 2009 2010 2011 2012 2013 2014 2015 2016 2017 2018]\n",
            " \n",
            "Total number of years in the ranking dateset  26\n",
            " \n",
            "............................................................\n",
            " \n",
            "[1872 1873 1874 1875 1876 1877 1878 1879 1880 1881 1882 1883 1884 1885\n",
            " 1886 1887 1888 1889 1890 1891 1892 1893 1894 1895 1896 1897 1898 1899\n",
            " 1900 1901 1902 1903 1904 1905 1906 1907 1908 1909 1910 1911 1912 1913\n",
            " 1914 1915 1916 1917 1918 1919 1920 1921 1922 1923 1924 1925 1926 1927\n",
            " 1928 1929 1930 1931 1932 1933 1934 1935 1936 1937 1938 1939 1940 1941\n",
            " 1942 1943 1944 1945 1946 1947 1948 1949 1950 1951 1952 1953 1954 1955\n",
            " 1956 1957 1958 1959 1960 1961 1962 1963 1964 1965 1966 1967 1968 1969\n",
            " 1970 1971 1972 1973 1974 1975 1976 1977 1978 1979 1980 1981 1982 1983\n",
            " 1984 1985 1986 1987 1988 1989 1990 1991 1992 1993 1994 1995 1996 1997\n",
            " 1998 1999 2000 2001 2002 2003 2004 2005 2006 2007 2008 2009 2010 2011\n",
            " 2012 2013 2014 2015 2016 2017 2018 2019]\n",
            " \n",
            "Total number of years in the results dateset  148\n"
          ],
          "name": "stdout"
        }
      ]
    },
    {
      "cell_type": "code",
      "metadata": {
        "id": "RBiAlwTi98z2"
      },
      "source": [
        "#we are going to drop the years that are not in both datesets.\n",
        "# We are also goint to drop all the data before 1999 as the fifa ranking formular was changed in 1998.\n",
        "#this will be done by filtering the data to keep only the required timeframe.\n",
        "\n",
        "results = results[results['year'] > 1998]\n",
        "results = results[results['year'] < 2019]\n",
        "rank = rank[rank['year'] > 1998]"
      ],
      "execution_count": 14,
      "outputs": []
    },
    {
      "cell_type": "code",
      "metadata": {
        "colab": {
          "base_uri": "https://localhost:8080/"
        },
        "id": "7g0wlgEM_371",
        "outputId": "e3e80219-bf0c-4547-f3bc-6e3edb565583"
      },
      "source": [
        "# confirming if the two datasets are from the same timeframes\n",
        "\n",
        "#ranking dataset years\n",
        "print(rank.year.unique())\n",
        "print(' ')\n",
        "print('Total number of years in the ranking dateset ' ,rank.year.nunique())\n",
        "print(' ')\n",
        "\n",
        "#check the new size of the data \n",
        "print(f'New size of rank dataset : {rank.shape}')\n",
        "print('...'*20)\n",
        "print(' ')\n",
        "#results dataset years\n",
        "print(results.year.unique())\n",
        "print(' ')\n",
        "print('Total number of years in the results dateset ' ,results.year.nunique())\n",
        "print(' ')\n",
        "\n",
        "#check the new size of the data \n",
        "print(f'New size of results dataset : {results.shape}')"
      ],
      "execution_count": 15,
      "outputs": [
        {
          "output_type": "stream",
          "text": [
            "[1999 2000 2001 2002 2003 2004 2005 2006 2007 2008 2009 2010 2011 2012\n",
            " 2013 2014 2015 2016 2017 2018]\n",
            " \n",
            "Total number of years in the ranking dateset  20\n",
            " \n",
            "New size of rank dataset : (47735, 7)\n",
            "............................................................\n",
            " \n",
            "[1999 2000 2001 2002 2003 2004 2005 2006 2007 2008 2009 2010 2011 2012\n",
            " 2013 2014 2015 2016 2017 2018]\n",
            " \n",
            "Total number of years in the results dateset  20\n",
            " \n",
            "New size of results dataset : (18657, 11)\n"
          ],
          "name": "stdout"
        }
      ]
    },
    {
      "cell_type": "markdown",
      "metadata": {
        "id": "hzvwN-LLMmMT"
      },
      "source": [
        "##Merging the datasets\n",
        "\n",
        "This will be done in three steps."
      ]
    },
    {
      "cell_type": "markdown",
      "metadata": {
        "id": "lgrEMmqvNnAp"
      },
      "source": [
        "Since our datasets do not a a key column that can be used in merging, we will create a unique key identifier by combining 3 diffrent columns.\n",
        "\n",
        "The combination of these three variables will  uniquely identify each row. The columns to be combined are:\n",
        "\n",
        "      Ranking Dataset:\n",
        "            country_full\n",
        "            year\n",
        "            month\n",
        " \n",
        "    Results dataset\n",
        "          home_team\n",
        "          away-team\n",
        "          year\n",
        "          month."
      ]
    },
    {
      "cell_type": "markdown",
      "metadata": {
        "id": "JRjWYSF0O6YH"
      },
      "source": [
        "###Step one\n",
        "\n",
        "Here we will combine the 3 columns from the rank data with the year, month and home_team from results column. This will create a dataframe where the rank country_full column represent the games played in the home county."
      ]
    },
    {
      "cell_type": "code",
      "metadata": {
        "colab": {
          "base_uri": "https://localhost:8080/",
          "height": 312
        },
        "id": "7hrk4gaMtrez",
        "outputId": "a37c26b8-50fa-4129-ffa1-dfdaf508f08e"
      },
      "source": [
        "# Create a dataset df1 that contains the home games played\n",
        "df1 = pd.merge(results, rank, how='inner', left_on=['home_team','year','month'], right_on=['country_full','year','month'])\n",
        "df1.head()"
      ],
      "execution_count": 16,
      "outputs": [
        {
          "output_type": "execute_result",
          "data": {
            "text/html": [
              "<div>\n",
              "<style scoped>\n",
              "    .dataframe tbody tr th:only-of-type {\n",
              "        vertical-align: middle;\n",
              "    }\n",
              "\n",
              "    .dataframe tbody tr th {\n",
              "        vertical-align: top;\n",
              "    }\n",
              "\n",
              "    .dataframe thead th {\n",
              "        text-align: right;\n",
              "    }\n",
              "</style>\n",
              "<table border=\"1\" class=\"dataframe\">\n",
              "  <thead>\n",
              "    <tr style=\"text-align: right;\">\n",
              "      <th></th>\n",
              "      <th>date</th>\n",
              "      <th>home_team</th>\n",
              "      <th>away_team</th>\n",
              "      <th>home_score</th>\n",
              "      <th>away_score</th>\n",
              "      <th>tournament</th>\n",
              "      <th>city</th>\n",
              "      <th>country</th>\n",
              "      <th>neutral</th>\n",
              "      <th>year</th>\n",
              "      <th>month</th>\n",
              "      <th>rank</th>\n",
              "      <th>country_full</th>\n",
              "      <th>rank_change</th>\n",
              "      <th>confederation</th>\n",
              "      <th>rank_date</th>\n",
              "    </tr>\n",
              "  </thead>\n",
              "  <tbody>\n",
              "    <tr>\n",
              "      <th>0</th>\n",
              "      <td>1999-01-04</td>\n",
              "      <td>Burkina Faso</td>\n",
              "      <td>Gabon</td>\n",
              "      <td>2</td>\n",
              "      <td>1</td>\n",
              "      <td>Friendly</td>\n",
              "      <td>Ouagadougou</td>\n",
              "      <td>Burkina Faso</td>\n",
              "      <td>False</td>\n",
              "      <td>1999</td>\n",
              "      <td>1</td>\n",
              "      <td>84</td>\n",
              "      <td>Burkina Faso</td>\n",
              "      <td>-9</td>\n",
              "      <td>CAF</td>\n",
              "      <td>1999-01-27</td>\n",
              "    </tr>\n",
              "    <tr>\n",
              "      <th>1</th>\n",
              "      <td>1999-01-10</td>\n",
              "      <td>Burkina Faso</td>\n",
              "      <td>Mali</td>\n",
              "      <td>1</td>\n",
              "      <td>0</td>\n",
              "      <td>Friendly</td>\n",
              "      <td>Ouagadougou</td>\n",
              "      <td>Burkina Faso</td>\n",
              "      <td>False</td>\n",
              "      <td>1999</td>\n",
              "      <td>1</td>\n",
              "      <td>84</td>\n",
              "      <td>Burkina Faso</td>\n",
              "      <td>-9</td>\n",
              "      <td>CAF</td>\n",
              "      <td>1999-01-27</td>\n",
              "    </tr>\n",
              "    <tr>\n",
              "      <th>2</th>\n",
              "      <td>1999-01-15</td>\n",
              "      <td>Burkina Faso</td>\n",
              "      <td>Mali</td>\n",
              "      <td>4</td>\n",
              "      <td>1</td>\n",
              "      <td>Friendly</td>\n",
              "      <td>Ouagadougou</td>\n",
              "      <td>Burkina Faso</td>\n",
              "      <td>False</td>\n",
              "      <td>1999</td>\n",
              "      <td>1</td>\n",
              "      <td>84</td>\n",
              "      <td>Burkina Faso</td>\n",
              "      <td>-9</td>\n",
              "      <td>CAF</td>\n",
              "      <td>1999-01-27</td>\n",
              "    </tr>\n",
              "    <tr>\n",
              "      <th>3</th>\n",
              "      <td>1999-01-10</td>\n",
              "      <td>Senegal</td>\n",
              "      <td>Guinea</td>\n",
              "      <td>1</td>\n",
              "      <td>0</td>\n",
              "      <td>Friendly</td>\n",
              "      <td>Dakar</td>\n",
              "      <td>Senegal</td>\n",
              "      <td>False</td>\n",
              "      <td>1999</td>\n",
              "      <td>1</td>\n",
              "      <td>88</td>\n",
              "      <td>Senegal</td>\n",
              "      <td>7</td>\n",
              "      <td>CAF</td>\n",
              "      <td>1999-01-27</td>\n",
              "    </tr>\n",
              "    <tr>\n",
              "      <th>4</th>\n",
              "      <td>1999-01-13</td>\n",
              "      <td>Senegal</td>\n",
              "      <td>Guinea</td>\n",
              "      <td>1</td>\n",
              "      <td>0</td>\n",
              "      <td>Friendly</td>\n",
              "      <td>Dakar</td>\n",
              "      <td>Senegal</td>\n",
              "      <td>False</td>\n",
              "      <td>1999</td>\n",
              "      <td>1</td>\n",
              "      <td>88</td>\n",
              "      <td>Senegal</td>\n",
              "      <td>7</td>\n",
              "      <td>CAF</td>\n",
              "      <td>1999-01-27</td>\n",
              "    </tr>\n",
              "  </tbody>\n",
              "</table>\n",
              "</div>"
            ],
            "text/plain": [
              "        date     home_team away_team  ...  rank_change  confederation  rank_date\n",
              "0 1999-01-04  Burkina Faso     Gabon  ...           -9            CAF 1999-01-27\n",
              "1 1999-01-10  Burkina Faso      Mali  ...           -9            CAF 1999-01-27\n",
              "2 1999-01-15  Burkina Faso      Mali  ...           -9            CAF 1999-01-27\n",
              "3 1999-01-10       Senegal    Guinea  ...            7            CAF 1999-01-27\n",
              "4 1999-01-13       Senegal    Guinea  ...            7            CAF 1999-01-27\n",
              "\n",
              "[5 rows x 16 columns]"
            ]
          },
          "metadata": {
            "tags": []
          },
          "execution_count": 16
        }
      ]
    },
    {
      "cell_type": "code",
      "metadata": {
        "colab": {
          "base_uri": "https://localhost:8080/"
        },
        "id": "ih2QlxHcug5Y",
        "outputId": "7d828ee5-833b-4747-96d7-60637bd3b65a"
      },
      "source": [
        "# let us get the shape of our merged dataframe\n",
        "df1.shape"
      ],
      "execution_count": 17,
      "outputs": [
        {
          "output_type": "execute_result",
          "data": {
            "text/plain": [
              "(15796, 16)"
            ]
          },
          "metadata": {
            "tags": []
          },
          "execution_count": 17
        }
      ]
    },
    {
      "cell_type": "markdown",
      "metadata": {
        "id": "JDArYmh5Pntx"
      },
      "source": [
        "###Step two\n",
        "\n",
        "Here we will combine the 3 columns from the rank data with the year, month and away_team from results column. This will create a dataframe where the rank country_full column represent the games played in the away from the home county."
      ]
    },
    {
      "cell_type": "code",
      "metadata": {
        "colab": {
          "base_uri": "https://localhost:8080/",
          "height": 166
        },
        "id": "0-46gaCiLxLl",
        "outputId": "38c197ac-8414-4762-89b7-20b737302027"
      },
      "source": [
        "# # Create a dataset df2 that contains the away games played\n",
        "df2 = pd.merge(results, rank, how='inner', left_on=['away_team','year','month'], right_on=['country_full','year','month'])\n",
        "df2.head(2)"
      ],
      "execution_count": 18,
      "outputs": [
        {
          "output_type": "execute_result",
          "data": {
            "text/html": [
              "<div>\n",
              "<style scoped>\n",
              "    .dataframe tbody tr th:only-of-type {\n",
              "        vertical-align: middle;\n",
              "    }\n",
              "\n",
              "    .dataframe tbody tr th {\n",
              "        vertical-align: top;\n",
              "    }\n",
              "\n",
              "    .dataframe thead th {\n",
              "        text-align: right;\n",
              "    }\n",
              "</style>\n",
              "<table border=\"1\" class=\"dataframe\">\n",
              "  <thead>\n",
              "    <tr style=\"text-align: right;\">\n",
              "      <th></th>\n",
              "      <th>date</th>\n",
              "      <th>home_team</th>\n",
              "      <th>away_team</th>\n",
              "      <th>home_score</th>\n",
              "      <th>away_score</th>\n",
              "      <th>tournament</th>\n",
              "      <th>city</th>\n",
              "      <th>country</th>\n",
              "      <th>neutral</th>\n",
              "      <th>year</th>\n",
              "      <th>month</th>\n",
              "      <th>rank</th>\n",
              "      <th>country_full</th>\n",
              "      <th>rank_change</th>\n",
              "      <th>confederation</th>\n",
              "      <th>rank_date</th>\n",
              "    </tr>\n",
              "  </thead>\n",
              "  <tbody>\n",
              "    <tr>\n",
              "      <th>0</th>\n",
              "      <td>1999-01-03</td>\n",
              "      <td>Ivory Coast</td>\n",
              "      <td>Togo</td>\n",
              "      <td>3</td>\n",
              "      <td>1</td>\n",
              "      <td>Friendly</td>\n",
              "      <td>Abidjan</td>\n",
              "      <td>Ivory Coast</td>\n",
              "      <td>False</td>\n",
              "      <td>1999</td>\n",
              "      <td>1</td>\n",
              "      <td>72</td>\n",
              "      <td>Togo</td>\n",
              "      <td>-4</td>\n",
              "      <td>CAF</td>\n",
              "      <td>1999-01-27</td>\n",
              "    </tr>\n",
              "    <tr>\n",
              "      <th>1</th>\n",
              "      <td>1999-01-04</td>\n",
              "      <td>Burkina Faso</td>\n",
              "      <td>Gabon</td>\n",
              "      <td>2</td>\n",
              "      <td>1</td>\n",
              "      <td>Friendly</td>\n",
              "      <td>Ouagadougou</td>\n",
              "      <td>Burkina Faso</td>\n",
              "      <td>False</td>\n",
              "      <td>1999</td>\n",
              "      <td>1</td>\n",
              "      <td>83</td>\n",
              "      <td>Gabon</td>\n",
              "      <td>-1</td>\n",
              "      <td>CAF</td>\n",
              "      <td>1999-01-27</td>\n",
              "    </tr>\n",
              "  </tbody>\n",
              "</table>\n",
              "</div>"
            ],
            "text/plain": [
              "        date     home_team away_team  ...  rank_change  confederation  rank_date\n",
              "0 1999-01-03   Ivory Coast      Togo  ...           -4            CAF 1999-01-27\n",
              "1 1999-01-04  Burkina Faso     Gabon  ...           -1            CAF 1999-01-27\n",
              "\n",
              "[2 rows x 16 columns]"
            ]
          },
          "metadata": {
            "tags": []
          },
          "execution_count": 18
        }
      ]
    },
    {
      "cell_type": "code",
      "metadata": {
        "colab": {
          "base_uri": "https://localhost:8080/"
        },
        "id": "VBJwgUG5L-Xa",
        "outputId": "d6d464d5-40da-47e2-9f4a-6552d03bebab"
      },
      "source": [
        "# let us get the shape of our merged dataframe\n",
        "df2.shape"
      ],
      "execution_count": 19,
      "outputs": [
        {
          "output_type": "execute_result",
          "data": {
            "text/plain": [
              "(15735, 16)"
            ]
          },
          "metadata": {
            "tags": []
          },
          "execution_count": 19
        }
      ]
    },
    {
      "cell_type": "markdown",
      "metadata": {
        "id": "Sw_dxkImP5KD"
      },
      "source": [
        "###Step Three\n",
        "\n",
        "Here we will merge the two datasets to have one data that represents the game that were played both away and in the home county for ach team."
      ]
    },
    {
      "cell_type": "code",
      "metadata": {
        "colab": {
          "base_uri": "https://localhost:8080/",
          "height": 249
        },
        "id": "hPLSviOSMEkt",
        "outputId": "84b724da-f4f0-4e0e-81f3-103df1001778"
      },
      "source": [
        "#Merge the two new datasets we created above\n",
        "df = pd.merge(df1, df2, how = 'inner', left_on = ['year', 'month','away_team'],\n",
        "              right_on = ['year', 'month','away_team'])\n",
        "\n",
        "\n",
        "#preview of the dataset\n",
        "df.head(3)"
      ],
      "execution_count": 20,
      "outputs": [
        {
          "output_type": "execute_result",
          "data": {
            "text/html": [
              "<div>\n",
              "<style scoped>\n",
              "    .dataframe tbody tr th:only-of-type {\n",
              "        vertical-align: middle;\n",
              "    }\n",
              "\n",
              "    .dataframe tbody tr th {\n",
              "        vertical-align: top;\n",
              "    }\n",
              "\n",
              "    .dataframe thead th {\n",
              "        text-align: right;\n",
              "    }\n",
              "</style>\n",
              "<table border=\"1\" class=\"dataframe\">\n",
              "  <thead>\n",
              "    <tr style=\"text-align: right;\">\n",
              "      <th></th>\n",
              "      <th>date_x</th>\n",
              "      <th>home_team_x</th>\n",
              "      <th>away_team</th>\n",
              "      <th>home_score_x</th>\n",
              "      <th>away_score_x</th>\n",
              "      <th>tournament_x</th>\n",
              "      <th>city_x</th>\n",
              "      <th>country_x</th>\n",
              "      <th>neutral_x</th>\n",
              "      <th>year</th>\n",
              "      <th>month</th>\n",
              "      <th>rank_x</th>\n",
              "      <th>country_full_x</th>\n",
              "      <th>rank_change_x</th>\n",
              "      <th>confederation_x</th>\n",
              "      <th>rank_date_x</th>\n",
              "      <th>date_y</th>\n",
              "      <th>home_team_y</th>\n",
              "      <th>home_score_y</th>\n",
              "      <th>away_score_y</th>\n",
              "      <th>tournament_y</th>\n",
              "      <th>city_y</th>\n",
              "      <th>country_y</th>\n",
              "      <th>neutral_y</th>\n",
              "      <th>rank_y</th>\n",
              "      <th>country_full_y</th>\n",
              "      <th>rank_change_y</th>\n",
              "      <th>confederation_y</th>\n",
              "      <th>rank_date_y</th>\n",
              "    </tr>\n",
              "  </thead>\n",
              "  <tbody>\n",
              "    <tr>\n",
              "      <th>0</th>\n",
              "      <td>1999-01-04</td>\n",
              "      <td>Burkina Faso</td>\n",
              "      <td>Gabon</td>\n",
              "      <td>2</td>\n",
              "      <td>1</td>\n",
              "      <td>Friendly</td>\n",
              "      <td>Ouagadougou</td>\n",
              "      <td>Burkina Faso</td>\n",
              "      <td>False</td>\n",
              "      <td>1999</td>\n",
              "      <td>1</td>\n",
              "      <td>84</td>\n",
              "      <td>Burkina Faso</td>\n",
              "      <td>-9</td>\n",
              "      <td>CAF</td>\n",
              "      <td>1999-01-27</td>\n",
              "      <td>1999-01-04</td>\n",
              "      <td>Burkina Faso</td>\n",
              "      <td>2</td>\n",
              "      <td>1</td>\n",
              "      <td>Friendly</td>\n",
              "      <td>Ouagadougou</td>\n",
              "      <td>Burkina Faso</td>\n",
              "      <td>False</td>\n",
              "      <td>83</td>\n",
              "      <td>Gabon</td>\n",
              "      <td>-1</td>\n",
              "      <td>CAF</td>\n",
              "      <td>1999-01-27</td>\n",
              "    </tr>\n",
              "    <tr>\n",
              "      <th>1</th>\n",
              "      <td>1999-01-04</td>\n",
              "      <td>Burkina Faso</td>\n",
              "      <td>Gabon</td>\n",
              "      <td>2</td>\n",
              "      <td>1</td>\n",
              "      <td>Friendly</td>\n",
              "      <td>Ouagadougou</td>\n",
              "      <td>Burkina Faso</td>\n",
              "      <td>False</td>\n",
              "      <td>1999</td>\n",
              "      <td>1</td>\n",
              "      <td>84</td>\n",
              "      <td>Burkina Faso</td>\n",
              "      <td>-9</td>\n",
              "      <td>CAF</td>\n",
              "      <td>1999-01-27</td>\n",
              "      <td>1999-01-24</td>\n",
              "      <td>Angola</td>\n",
              "      <td>3</td>\n",
              "      <td>1</td>\n",
              "      <td>African Cup of Nations qualification</td>\n",
              "      <td>Luanda</td>\n",
              "      <td>Angola</td>\n",
              "      <td>False</td>\n",
              "      <td>83</td>\n",
              "      <td>Gabon</td>\n",
              "      <td>-1</td>\n",
              "      <td>CAF</td>\n",
              "      <td>1999-01-27</td>\n",
              "    </tr>\n",
              "    <tr>\n",
              "      <th>2</th>\n",
              "      <td>1999-01-24</td>\n",
              "      <td>Angola</td>\n",
              "      <td>Gabon</td>\n",
              "      <td>3</td>\n",
              "      <td>1</td>\n",
              "      <td>African Cup of Nations qualification</td>\n",
              "      <td>Luanda</td>\n",
              "      <td>Angola</td>\n",
              "      <td>False</td>\n",
              "      <td>1999</td>\n",
              "      <td>1</td>\n",
              "      <td>59</td>\n",
              "      <td>Angola</td>\n",
              "      <td>-9</td>\n",
              "      <td>CAF</td>\n",
              "      <td>1999-01-27</td>\n",
              "      <td>1999-01-04</td>\n",
              "      <td>Burkina Faso</td>\n",
              "      <td>2</td>\n",
              "      <td>1</td>\n",
              "      <td>Friendly</td>\n",
              "      <td>Ouagadougou</td>\n",
              "      <td>Burkina Faso</td>\n",
              "      <td>False</td>\n",
              "      <td>83</td>\n",
              "      <td>Gabon</td>\n",
              "      <td>-1</td>\n",
              "      <td>CAF</td>\n",
              "      <td>1999-01-27</td>\n",
              "    </tr>\n",
              "  </tbody>\n",
              "</table>\n",
              "</div>"
            ],
            "text/plain": [
              "      date_x   home_team_x away_team  ...  rank_change_y  confederation_y rank_date_y\n",
              "0 1999-01-04  Burkina Faso     Gabon  ...             -1              CAF  1999-01-27\n",
              "1 1999-01-04  Burkina Faso     Gabon  ...             -1              CAF  1999-01-27\n",
              "2 1999-01-24        Angola     Gabon  ...             -1              CAF  1999-01-27\n",
              "\n",
              "[3 rows x 29 columns]"
            ]
          },
          "metadata": {
            "tags": []
          },
          "execution_count": 20
        }
      ]
    },
    {
      "cell_type": "code",
      "metadata": {
        "colab": {
          "base_uri": "https://localhost:8080/"
        },
        "id": "pfwO5uNxQs6A",
        "outputId": "ec6ad6b7-cf42-47c8-f1ec-0bec00e107e9"
      },
      "source": [
        "#shape of the dataset\n",
        "print(f'Size of new dataset : {df.shape}')\n",
        "print(' ')\n",
        "#basic info of the dataset\n",
        "df.info()"
      ],
      "execution_count": 21,
      "outputs": [
        {
          "output_type": "stream",
          "text": [
            "Size of new dataset : (23974, 29)\n",
            " \n",
            "<class 'pandas.core.frame.DataFrame'>\n",
            "Int64Index: 23974 entries, 0 to 23973\n",
            "Data columns (total 29 columns):\n",
            " #   Column           Non-Null Count  Dtype         \n",
            "---  ------           --------------  -----         \n",
            " 0   date_x           23974 non-null  datetime64[ns]\n",
            " 1   home_team_x      23974 non-null  object        \n",
            " 2   away_team        23974 non-null  object        \n",
            " 3   home_score_x     23974 non-null  int64         \n",
            " 4   away_score_x     23974 non-null  int64         \n",
            " 5   tournament_x     23974 non-null  object        \n",
            " 6   city_x           23974 non-null  object        \n",
            " 7   country_x        23974 non-null  object        \n",
            " 8   neutral_x        23974 non-null  bool          \n",
            " 9   year             23974 non-null  int64         \n",
            " 10  month            23974 non-null  int64         \n",
            " 11  rank_x           23974 non-null  int64         \n",
            " 12  country_full_x   23974 non-null  object        \n",
            " 13  rank_change_x    23974 non-null  int64         \n",
            " 14  confederation_x  23974 non-null  object        \n",
            " 15  rank_date_x      23974 non-null  datetime64[ns]\n",
            " 16  date_y           23974 non-null  datetime64[ns]\n",
            " 17  home_team_y      23974 non-null  object        \n",
            " 18  home_score_y     23974 non-null  int64         \n",
            " 19  away_score_y     23974 non-null  int64         \n",
            " 20  tournament_y     23974 non-null  object        \n",
            " 21  city_y           23974 non-null  object        \n",
            " 22  country_y        23974 non-null  object        \n",
            " 23  neutral_y        23974 non-null  bool          \n",
            " 24  rank_y           23974 non-null  int64         \n",
            " 25  country_full_y   23974 non-null  object        \n",
            " 26  rank_change_y    23974 non-null  int64         \n",
            " 27  confederation_y  23974 non-null  object        \n",
            " 28  rank_date_y      23974 non-null  datetime64[ns]\n",
            "dtypes: bool(2), datetime64[ns](4), int64(10), object(13)\n",
            "memory usage: 5.2+ MB\n"
          ],
          "name": "stdout"
        }
      ]
    },
    {
      "cell_type": "markdown",
      "metadata": {
        "id": "9X6VNxcKQjcq"
      },
      "source": [
        "## Cleaning the new dataset "
      ]
    },
    {
      "cell_type": "code",
      "metadata": {
        "colab": {
          "base_uri": "https://localhost:8080/",
          "height": 346
        },
        "id": "RBKBsLuCkxgQ",
        "outputId": "2046869d-2c23-4bc4-833c-0f5fe71a50f2"
      },
      "source": [
        "# let us drop columns that have been repeated and are not needed\n",
        "df.drop(columns= ['country_x','rank_change_y','confederation_y','rank_date_y', \n",
        "'date_y','home_team_y','home_score_y','away_score_y','tournament_y','country_y',\n",
        "'neutral_y', 'rank_date_x','country_full_x','city_x','city_y'], inplace=True)\n",
        "\n",
        "# let us rename our columns to reflect home and away information\n",
        "df.rename(columns={'home_team_x':'home_team','rank_x' : 'home_rank','rank_y' : 'away_rank', 'rank_change_x':'rank_change',\n",
        "                   'country_full_y':'away_team','confederation_x':'confederation','home_score_x':'home_score',\n",
        "                   'away_score_x':'away_score','tournament_x':'tournament','neutral_x':'neutral','date_x':'date',},inplace=True)\n",
        "df.head()"
      ],
      "execution_count": 22,
      "outputs": [
        {
          "output_type": "execute_result",
          "data": {
            "text/html": [
              "<div>\n",
              "<style scoped>\n",
              "    .dataframe tbody tr th:only-of-type {\n",
              "        vertical-align: middle;\n",
              "    }\n",
              "\n",
              "    .dataframe tbody tr th {\n",
              "        vertical-align: top;\n",
              "    }\n",
              "\n",
              "    .dataframe thead th {\n",
              "        text-align: right;\n",
              "    }\n",
              "</style>\n",
              "<table border=\"1\" class=\"dataframe\">\n",
              "  <thead>\n",
              "    <tr style=\"text-align: right;\">\n",
              "      <th></th>\n",
              "      <th>date</th>\n",
              "      <th>home_team</th>\n",
              "      <th>away_team</th>\n",
              "      <th>home_score</th>\n",
              "      <th>away_score</th>\n",
              "      <th>tournament</th>\n",
              "      <th>neutral</th>\n",
              "      <th>year</th>\n",
              "      <th>month</th>\n",
              "      <th>home_rank</th>\n",
              "      <th>rank_change</th>\n",
              "      <th>confederation</th>\n",
              "      <th>away_rank</th>\n",
              "      <th>away_team</th>\n",
              "    </tr>\n",
              "  </thead>\n",
              "  <tbody>\n",
              "    <tr>\n",
              "      <th>0</th>\n",
              "      <td>1999-01-04</td>\n",
              "      <td>Burkina Faso</td>\n",
              "      <td>Gabon</td>\n",
              "      <td>2</td>\n",
              "      <td>1</td>\n",
              "      <td>Friendly</td>\n",
              "      <td>False</td>\n",
              "      <td>1999</td>\n",
              "      <td>1</td>\n",
              "      <td>84</td>\n",
              "      <td>-9</td>\n",
              "      <td>CAF</td>\n",
              "      <td>83</td>\n",
              "      <td>Gabon</td>\n",
              "    </tr>\n",
              "    <tr>\n",
              "      <th>1</th>\n",
              "      <td>1999-01-04</td>\n",
              "      <td>Burkina Faso</td>\n",
              "      <td>Gabon</td>\n",
              "      <td>2</td>\n",
              "      <td>1</td>\n",
              "      <td>Friendly</td>\n",
              "      <td>False</td>\n",
              "      <td>1999</td>\n",
              "      <td>1</td>\n",
              "      <td>84</td>\n",
              "      <td>-9</td>\n",
              "      <td>CAF</td>\n",
              "      <td>83</td>\n",
              "      <td>Gabon</td>\n",
              "    </tr>\n",
              "    <tr>\n",
              "      <th>2</th>\n",
              "      <td>1999-01-24</td>\n",
              "      <td>Angola</td>\n",
              "      <td>Gabon</td>\n",
              "      <td>3</td>\n",
              "      <td>1</td>\n",
              "      <td>African Cup of Nations qualification</td>\n",
              "      <td>False</td>\n",
              "      <td>1999</td>\n",
              "      <td>1</td>\n",
              "      <td>59</td>\n",
              "      <td>-9</td>\n",
              "      <td>CAF</td>\n",
              "      <td>83</td>\n",
              "      <td>Gabon</td>\n",
              "    </tr>\n",
              "    <tr>\n",
              "      <th>3</th>\n",
              "      <td>1999-01-24</td>\n",
              "      <td>Angola</td>\n",
              "      <td>Gabon</td>\n",
              "      <td>3</td>\n",
              "      <td>1</td>\n",
              "      <td>African Cup of Nations qualification</td>\n",
              "      <td>False</td>\n",
              "      <td>1999</td>\n",
              "      <td>1</td>\n",
              "      <td>59</td>\n",
              "      <td>-9</td>\n",
              "      <td>CAF</td>\n",
              "      <td>83</td>\n",
              "      <td>Gabon</td>\n",
              "    </tr>\n",
              "    <tr>\n",
              "      <th>4</th>\n",
              "      <td>1999-01-10</td>\n",
              "      <td>Burkina Faso</td>\n",
              "      <td>Mali</td>\n",
              "      <td>1</td>\n",
              "      <td>0</td>\n",
              "      <td>Friendly</td>\n",
              "      <td>False</td>\n",
              "      <td>1999</td>\n",
              "      <td>1</td>\n",
              "      <td>84</td>\n",
              "      <td>-9</td>\n",
              "      <td>CAF</td>\n",
              "      <td>79</td>\n",
              "      <td>Mali</td>\n",
              "    </tr>\n",
              "  </tbody>\n",
              "</table>\n",
              "</div>"
            ],
            "text/plain": [
              "        date     home_team away_team  ...  confederation  away_rank away_team\n",
              "0 1999-01-04  Burkina Faso     Gabon  ...            CAF         83     Gabon\n",
              "1 1999-01-04  Burkina Faso     Gabon  ...            CAF         83     Gabon\n",
              "2 1999-01-24        Angola     Gabon  ...            CAF         83     Gabon\n",
              "3 1999-01-24        Angola     Gabon  ...            CAF         83     Gabon\n",
              "4 1999-01-10  Burkina Faso      Mali  ...            CAF         79      Mali\n",
              "\n",
              "[5 rows x 14 columns]"
            ]
          },
          "metadata": {
            "tags": []
          },
          "execution_count": 22
        }
      ]
    },
    {
      "cell_type": "code",
      "metadata": {
        "colab": {
          "base_uri": "https://localhost:8080/"
        },
        "id": "g7Dfs58mQppo",
        "outputId": "258633c6-905b-48a8-8cef-a14d590db245"
      },
      "source": [
        "#check for null values\n",
        "df.isnull().sum()\n",
        "\n",
        "#there are no null values"
      ],
      "execution_count": 23,
      "outputs": [
        {
          "output_type": "execute_result",
          "data": {
            "text/plain": [
              "date             0\n",
              "home_team        0\n",
              "away_team        0\n",
              "home_score       0\n",
              "away_score       0\n",
              "tournament       0\n",
              "neutral          0\n",
              "year             0\n",
              "month            0\n",
              "home_rank        0\n",
              "rank_change      0\n",
              "confederation    0\n",
              "away_rank        0\n",
              "away_team        0\n",
              "dtype: int64"
            ]
          },
          "metadata": {
            "tags": []
          },
          "execution_count": 23
        }
      ]
    },
    {
      "cell_type": "code",
      "metadata": {
        "colab": {
          "base_uri": "https://localhost:8080/"
        },
        "id": "xlRzVQj6nrL0",
        "outputId": "2db11e0d-1479-4c52-a0da-31b76c7d1d2d"
      },
      "source": [
        "#check the shape\n",
        "df.shape"
      ],
      "execution_count": 24,
      "outputs": [
        {
          "output_type": "execute_result",
          "data": {
            "text/plain": [
              "(23974, 14)"
            ]
          },
          "metadata": {
            "tags": []
          },
          "execution_count": 24
        }
      ]
    },
    {
      "cell_type": "code",
      "metadata": {
        "colab": {
          "base_uri": "https://localhost:8080/"
        },
        "id": "yJQrXGCMRsFA",
        "outputId": "29de86c9-f765-4e44-e65a-39843c4f0046"
      },
      "source": [
        "#check for duplicates\n",
        "df.duplicated().sum()"
      ],
      "execution_count": 25,
      "outputs": [
        {
          "output_type": "execute_result",
          "data": {
            "text/plain": [
              "9597"
            ]
          },
          "metadata": {
            "tags": []
          },
          "execution_count": 25
        }
      ]
    },
    {
      "cell_type": "code",
      "metadata": {
        "colab": {
          "base_uri": "https://localhost:8080/"
        },
        "id": "V98o5s5ER2po",
        "outputId": "8a87201d-6eb0-4f7e-9c29-802f1b4e4b6b"
      },
      "source": [
        "#droping the duplicates\n",
        "df.drop_duplicates(inplace=True)\n",
        "\n",
        "#check to see if the duplicates have been droped\n",
        "df.duplicated().sum()"
      ],
      "execution_count": 26,
      "outputs": [
        {
          "output_type": "execute_result",
          "data": {
            "text/plain": [
              "0"
            ]
          },
          "metadata": {
            "tags": []
          },
          "execution_count": 26
        }
      ]
    },
    {
      "cell_type": "code",
      "metadata": {
        "id": "55Ei13KrSniZ",
        "colab": {
          "base_uri": "https://localhost:8080/",
          "height": 1000
        },
        "outputId": "24db86cf-bcf0-46f6-876e-5b22a242e9fb"
      },
      "source": [
        "# import seaborn as sns\n",
        "# Checking for outliers in the columns with numerical data\n",
        "\n",
        "col_names = ['home_score', 'away_score', 'year', 'month', 'home_rank','away_rank']\n",
        "\n",
        "fig, ax = plt.subplots(len(col_names), figsize=(8,15))\n",
        "\n",
        "for i, col_val in enumerate(col_names):\n",
        "    sns.boxplot(df[col_val], ax=ax[i])\n",
        "    ax[i].set_title('Box plot - {}'.format(col_val), fontsize=10)\n",
        "    ax[i].set_xlabel(col_val, fontsize=8)\n",
        "plt.show()"
      ],
      "execution_count": 27,
      "outputs": [
        {
          "output_type": "error",
          "ename": "NameError",
          "evalue": "ignored",
          "traceback": [
            "\u001b[0;31m---------------------------------------------------------------------------\u001b[0m",
            "\u001b[0;31mNameError\u001b[0m                                 Traceback (most recent call last)",
            "\u001b[0;32m<ipython-input-27-47eb1cb3999b>\u001b[0m in \u001b[0;36m<module>\u001b[0;34m()\u001b[0m\n\u001b[1;32m      7\u001b[0m \u001b[0;34m\u001b[0m\u001b[0m\n\u001b[1;32m      8\u001b[0m \u001b[0;32mfor\u001b[0m \u001b[0mi\u001b[0m\u001b[0;34m,\u001b[0m \u001b[0mcol_val\u001b[0m \u001b[0;32min\u001b[0m \u001b[0menumerate\u001b[0m\u001b[0;34m(\u001b[0m\u001b[0mcol_names\u001b[0m\u001b[0;34m)\u001b[0m\u001b[0;34m:\u001b[0m\u001b[0;34m\u001b[0m\u001b[0;34m\u001b[0m\u001b[0m\n\u001b[0;32m----> 9\u001b[0;31m     \u001b[0msns\u001b[0m\u001b[0;34m.\u001b[0m\u001b[0mboxplot\u001b[0m\u001b[0;34m(\u001b[0m\u001b[0mdf\u001b[0m\u001b[0;34m[\u001b[0m\u001b[0mcol_val\u001b[0m\u001b[0;34m]\u001b[0m\u001b[0;34m,\u001b[0m \u001b[0max\u001b[0m\u001b[0;34m=\u001b[0m\u001b[0max\u001b[0m\u001b[0;34m[\u001b[0m\u001b[0mi\u001b[0m\u001b[0;34m]\u001b[0m\u001b[0;34m)\u001b[0m\u001b[0;34m\u001b[0m\u001b[0;34m\u001b[0m\u001b[0m\n\u001b[0m\u001b[1;32m     10\u001b[0m     \u001b[0max\u001b[0m\u001b[0;34m[\u001b[0m\u001b[0mi\u001b[0m\u001b[0;34m]\u001b[0m\u001b[0;34m.\u001b[0m\u001b[0mset_title\u001b[0m\u001b[0;34m(\u001b[0m\u001b[0;34m'Box plot - {}'\u001b[0m\u001b[0;34m.\u001b[0m\u001b[0mformat\u001b[0m\u001b[0;34m(\u001b[0m\u001b[0mcol_val\u001b[0m\u001b[0;34m)\u001b[0m\u001b[0;34m,\u001b[0m \u001b[0mfontsize\u001b[0m\u001b[0;34m=\u001b[0m\u001b[0;36m10\u001b[0m\u001b[0;34m)\u001b[0m\u001b[0;34m\u001b[0m\u001b[0;34m\u001b[0m\u001b[0m\n\u001b[1;32m     11\u001b[0m     \u001b[0max\u001b[0m\u001b[0;34m[\u001b[0m\u001b[0mi\u001b[0m\u001b[0;34m]\u001b[0m\u001b[0;34m.\u001b[0m\u001b[0mset_xlabel\u001b[0m\u001b[0;34m(\u001b[0m\u001b[0mcol_val\u001b[0m\u001b[0;34m,\u001b[0m \u001b[0mfontsize\u001b[0m\u001b[0;34m=\u001b[0m\u001b[0;36m8\u001b[0m\u001b[0;34m)\u001b[0m\u001b[0;34m\u001b[0m\u001b[0;34m\u001b[0m\u001b[0m\n",
            "\u001b[0;31mNameError\u001b[0m: name 'sns' is not defined"
          ]
        },
        {
          "output_type": "display_data",
          "data": {
            "image/png": "[encoded data removed]",
            "text/plain": [
              "<Figure size 576x1080 with 6 Axes>"
            ]
          },
          "metadata": {
            "tags": [],
            "needs_background": "light"
          }
        }
      ]
    },
    {
      "cell_type": "markdown",
      "metadata": {
        "id": "25yO0OLGhoV0"
      },
      "source": [
        "There are a number of outliers in the home and away scores columns."
      ]
    },
    {
      "cell_type": "code",
      "metadata": {
        "id": "6_N9eg8bTSja"
      },
      "source": [
        "#detecting and removing outliers\n",
        "\n",
        "#defining numerical variables\n",
        "cols = ['year', 'month', 'home_rank','away_rank']\n",
        "\n",
        "#detecting outliers\n",
        "Q1 = df[cols].quantile(0.25)\n",
        "Q3 = df[cols].quantile(0.75)\n",
        "IQR = Q3 - Q1\n",
        "\n",
        "#remove outliers\n",
        "df[cols] = df[cols][~((df[cols] < (Q1 - 1.5 * IQR)) |(df[cols] > (Q3 + 1.5 * IQR))).any(axis=1)]\n",
        "\n",
        "#size of dataset after removing the outliers\n",
        "print(f'Size of the cleaned dataset : {df.shape}')\n",
        "\n",
        "#preview of the dateset\n",
        "df.head()"
      ],
      "execution_count": null,
      "outputs": []
    },
    {
      "cell_type": "markdown",
      "metadata": {
        "id": "Ljuo277rvyiI"
      },
      "source": [
        "# Feature Engineering "
      ]
    },
    {
      "cell_type": "code",
      "metadata": {
        "id": "nS33QbscvjzC"
      },
      "source": [
        "# To create two columns that shows whehter the home team won, lost or if it was a draw.\n",
        "#the second column will show the margin of win or loss\n",
        "df['outcome'] = df.home_score - df.away_score\n",
        "df['margin'] = df.home_score - df.away_score\n",
        "\n",
        "#We will use a function to set the column for the win, lose or draw\n",
        "margin = df.home_score - df.away_score\n",
        "\n",
        "def match_result(margin):\n",
        "  if margin > 0:\n",
        "    return 'WIN'\n",
        "  elif margin < 0:\n",
        "    return 'LOSS'\n",
        "  else:\n",
        "    return 'DRAW'\n",
        "\n",
        "#We'll then apply this function to the entire dateset\n",
        "df['outcome']= df.outcome.apply(lambda margin: match_result(margin))\n",
        "\n",
        "#Preview th data to comfirm that the columns have been updated\n",
        "df.head()"
      ],
      "execution_count": null,
      "outputs": []
    },
    {
      "cell_type": "code",
      "metadata": {
        "id": "pTsk-vPnfI4C"
      },
      "source": [
        "#check the different types of turnaments. The research was to analysis based on whehter the tournament was world cup, friendly or others\n",
        "df.tournament.unique()"
      ],
      "execution_count": null,
      "outputs": []
    },
    {
      "cell_type": "code",
      "metadata": {
        "id": "eRGaXeGsv3Cm"
      },
      "source": [
        "# #we're going to change the tournament types to be either World cup, Friendly or other\n",
        "\n",
        "def tnmt(i):\n",
        "  if i == 'FIFA World Cup':\n",
        "    return 'World Cup'\n",
        "  elif i == 'Friendly':\n",
        "    return 'Friendly'\n",
        "  else:\n",
        "    return 'Other'\n",
        "\n",
        "df['tournament'] = df.tournament.apply(lambda x: tnmt(x))\n",
        "\n",
        "#check if the changes have been updated\n",
        "df.tournament.unique()"
      ],
      "execution_count": null,
      "outputs": []
    },
    {
      "cell_type": "code",
      "metadata": {
        "id": "YGwDa0CNv27C"
      },
      "source": [
        "#preview the dataset\n",
        "df.head()"
      ],
      "execution_count": null,
      "outputs": []
    },
    {
      "cell_type": "markdown",
      "metadata": {
        "id": "hP6cj2gKaCJo"
      },
      "source": [
        "# Save the cleaned data to  a *csv* file"
      ]
    },
    {
      "cell_type": "code",
      "metadata": {
        "id": "v-mmxar0aJJZ"
      },
      "source": [
        "#saving the data to a csv file\n",
        "df.to_csv('Fifa Dataset.csv', index = False)"
      ],
      "execution_count": null,
      "outputs": []
    },
    {
      "cell_type": "code",
      "metadata": {
        "id": "E745cCeIajSz"
      },
      "source": [
        "#loading the cleaned dataset to be used in the analysis\n",
        "df = pd.read_csv('/content/Fifa Dataset.csv')"
      ],
      "execution_count": null,
      "outputs": []
    },
    {
      "cell_type": "code",
      "metadata": {
        "id": "2NR_yHYgazbj"
      },
      "source": [
        "#preview the datset\n",
        "df.head()"
      ],
      "execution_count": null,
      "outputs": []
    },
    {
      "cell_type": "code",
      "metadata": {
        "id": "RqCSPEqvbX3H"
      },
      "source": [
        "#shape of the data\n",
        "df.shape"
      ],
      "execution_count": null,
      "outputs": []
    },
    {
      "cell_type": "markdown",
      "metadata": {
        "id": "9MuwVk00CYxu"
      },
      "source": [
        "# Exploratory Analysis"
      ]
    },
    {
      "cell_type": "markdown",
      "metadata": {
        "id": "a5AaCHaiCeY7"
      },
      "source": [
        "## **Univarient Analysis**"
      ]
    },
    {
      "cell_type": "markdown",
      "metadata": {
        "id": "JBT_t6ZdtDNC"
      },
      "source": [
        "###Measures of Dispersion"
      ]
    },
    {
      "cell_type": "code",
      "metadata": {
        "id": "ra63_O0RCx5W"
      },
      "source": [
        "#Dscriptive statistics\n",
        "df.describe()"
      ],
      "execution_count": null,
      "outputs": []
    },
    {
      "cell_type": "code",
      "metadata": {
        "id": "kB0lhUhHtQij"
      },
      "source": [
        "#Frequency dustribution\n",
        "column = ['home_rank','home_score', 'away_score','away_rank', 'rank_change','margin']\n",
        "for i in column:\n",
        "  print(f'Frequency: {i}')\n",
        "  print(df[i].value_counts().sort_values(ascending=False))\n",
        "  print(' ')\n",
        "  print('....'*20)"
      ],
      "execution_count": null,
      "outputs": []
    },
    {
      "cell_type": "code",
      "metadata": {
        "id": "3ecBLpvytt60"
      },
      "source": [
        "# skewness and kurtosis of the data\n",
        "for i in column:\n",
        "  print(i)\n",
        "  print(f'skewness:  {df[i].skew()}')\n",
        "  print(f'Kurtosis:  {df[i].kurt()}')\n",
        "  print(' ')\n",
        "  s= abs(df[i].skew())\n",
        "  if s > 1:\n",
        "    print('highly skewed distribution')\n",
        "  else:\n",
        "    print('')\n",
        "  k = df[i].kurt()\n",
        "  if k >3:\n",
        "    print('the distribution is heavy-tailed(leptokutic)')\n",
        "  elif k < 3:\n",
        "    print('Distribution is light tailed')\n",
        "  print(' ')\n",
        "  print('....'*20)"
      ],
      "execution_count": null,
      "outputs": []
    },
    {
      "cell_type": "markdown",
      "metadata": {
        "id": "QswI1HTSuX10"
      },
      "source": [
        "###Univariete Visualizations"
      ]
    },
    {
      "cell_type": "code",
      "metadata": {
        "id": "R50sb19MuGvz"
      },
      "source": [
        "#histogram plots\n",
        "for i in column:\n",
        "  df.hist(i)"
      ],
      "execution_count": null,
      "outputs": []
    },
    {
      "cell_type": "code",
      "metadata": {
        "id": "7gtJVPEoujTi"
      },
      "source": [
        "#Visual of the matches played on neutral ground\n",
        "import seaborn as sns\n",
        "sns.countplot(x='neutral', data=df)\n",
        "plt.title('Matches Played on Neutral Ground')"
      ],
      "execution_count": null,
      "outputs": []
    },
    {
      "cell_type": "markdown",
      "metadata": {
        "id": "ItFP6hGMu8Jn"
      },
      "source": [
        "Only a few matches were played in a neutral location(About 3000,compared to the others that were hosted by a team which were more than 10,000)"
      ]
    },
    {
      "cell_type": "code",
      "metadata": {
        "id": "LkVx9RJRvSqg"
      },
      "source": [
        "#Visual of the matches played on neutral ground\n",
        "sns.countplot(x='outcome', data=df)\n",
        "plt.title('Outcome of Matches Played')"
      ],
      "execution_count": null,
      "outputs": []
    },
    {
      "cell_type": "markdown",
      "metadata": {
        "id": "gz_QJWhjvrP2"
      },
      "source": [
        "Most of the matches were won (by the host team). The Losses were slightly higher than the draws."
      ]
    },
    {
      "cell_type": "code",
      "metadata": {
        "id": "7hDaB3fIvq3L"
      },
      "source": [
        "#Visual of the matches played on neutral ground\n",
        "sns.countplot(x='tournament', data=df)\n",
        "plt.title('Types of Tournament')"
      ],
      "execution_count": null,
      "outputs": []
    },
    {
      "cell_type": "markdown",
      "metadata": {
        "id": "t7hGiH7ZwnMy"
      },
      "source": [
        "Most of the maches played were others follwed by friendly. The least types of tournaments played were world cup matches."
      ]
    },
    {
      "cell_type": "code",
      "metadata": {
        "id": "wQdhTbPCwin7"
      },
      "source": [
        "# Bar graph showing Matches across the years.\n",
        "\n",
        "df.year.value_counts().sort_values().head(10).plot.barh(color = 'lightgreen')\n",
        "plt.title('year')\n",
        "degrees = 60\n",
        "plt.xticks(rotation=degrees)\n"
      ],
      "execution_count": null,
      "outputs": []
    },
    {
      "cell_type": "markdown",
      "metadata": {
        "id": "f5XSLfoRx6fH"
      },
      "source": [
        "Most of the matches played were in the year 2003 while the year with the least number of matches was 2018."
      ]
    },
    {
      "cell_type": "code",
      "metadata": {
        "id": "nWdNe0r2x6J0"
      },
      "source": [
        "# Bar graph showing Distribution of matches across the months of the year\n",
        "\n",
        "df.month.value_counts().sort_values().head(10).plot.barh(color = 'lightgreen')\n",
        "plt.title('months')\n",
        "\n"
      ],
      "execution_count": null,
      "outputs": []
    },
    {
      "cell_type": "markdown",
      "metadata": {
        "id": "p1E5zP2jyeHk"
      },
      "source": [
        "Most matches were played in the months of september, March and November while the very fer matches were played in December and April."
      ]
    },
    {
      "cell_type": "code",
      "metadata": {
        "id": "lr_0ZzhJDJfs"
      },
      "source": [
        "# Bar graph showing confederations\n",
        "\n",
        "df.confederation.value_counts().head(10).plot.bar(color = 'lightgreen')\n",
        "plt.title('Confederations')\n",
        "degrees = 10\n",
        "plt.xticks(rotation=degrees)\n"
      ],
      "execution_count": null,
      "outputs": []
    },
    {
      "cell_type": "markdown",
      "metadata": {
        "id": "s9nuSpgB0E2a"
      },
      "source": [
        "UEFA Confederations are the highest occuring in our dataframe"
      ]
    },
    {
      "cell_type": "markdown",
      "metadata": {
        "id": "EIDKDTnl2gFq"
      },
      "source": [
        "###Time series Graph"
      ]
    },
    {
      "cell_type": "code",
      "metadata": {
        "id": "r-gZ39320Cxw"
      },
      "source": [
        "#make a copy of our data to use in time series analysis\n",
        "ts = df.copy()\n",
        "\n",
        "# set date as index\n",
        "ts = ts.set_index('date')\n",
        "\n",
        "#plot of Matches over the years.\n",
        "%matplotlib inline\n",
        "d = ts.groupby('year').count()\n",
        "d1 = d['home_score']\n",
        "d1.plot()\n"
      ],
      "execution_count": null,
      "outputs": []
    },
    {
      "cell_type": "code",
      "metadata": {
        "id": "mQkL90jeKPW0"
      },
      "source": [
        ""
      ],
      "execution_count": null,
      "outputs": []
    },
    {
      "cell_type": "markdown",
      "metadata": {
        "id": "c3mCOi-bijwX"
      },
      "source": [
        "### Bivariate Analysis"
      ]
    },
    {
      "cell_type": "code",
      "metadata": {
        "id": "DzppA7aJg3TI"
      },
      "source": [
        "# Ploting the bivariate summaries and recording our observations\n",
        "sns.pairplot(df)\n",
        "plt.show()"
      ],
      "execution_count": null,
      "outputs": []
    },
    {
      "cell_type": "code",
      "metadata": {
        "id": "E1P8dI6fir2Y"
      },
      "source": [
        "# Calculating the pearson coefficient correlation\n",
        "a = df.corr() \n",
        "plt.figure(figsize = (20,10))\n",
        "sns.heatmap(a, xticklabels=a.columns, yticklabels=a.columns, annot=True)\n",
        "plt.title('A Heatmap of Pearson Correlation in our Dataset')\n",
        "plt.show()"
      ],
      "execution_count": null,
      "outputs": []
    },
    {
      "cell_type": "markdown",
      "metadata": {
        "id": "E1FoS5ju3BhM"
      },
      "source": [
        "There is a high positve correlation between home score and the win/lose margin and a negative correlation between the away score and win/lose margin."
      ]
    },
    {
      "cell_type": "markdown",
      "metadata": {
        "id": "Amci-4f0xA7v"
      },
      "source": [
        "# Predictive Analysis"
      ]
    },
    {
      "cell_type": "markdown",
      "metadata": {
        "id": "WehN0rPl-8RB"
      },
      "source": [
        "###Preparing the data for predictive analysis"
      ]
    },
    {
      "cell_type": "code",
      "metadata": {
        "id": "aVF1uJVGv20c"
      },
      "source": [
        "# creating a copy so that we can preserve the original data when we encode the data\n",
        "\n",
        "df_copy = df.copy()"
      ],
      "execution_count": null,
      "outputs": []
    },
    {
      "cell_type": "code",
      "metadata": {
        "id": "c5FXBbHhv2tI"
      },
      "source": [
        "# Label encoding the categorical data\n",
        "\n",
        "from sklearn.preprocessing import LabelEncoder\n",
        "\n",
        "labelencoder = LabelEncoder()\n",
        "\n",
        "df_copy['neutral'] = labelencoder.fit_transform(df_copy['neutral'])\n",
        "df_copy['tournament'] = labelencoder.fit_transform(df_copy['tournament'])\n",
        "df_copy['outcome'] = labelencoder.fit_transform(df_copy['outcome'])\n",
        "df_copy.head(2)\n"
      ],
      "execution_count": null,
      "outputs": []
    },
    {
      "cell_type": "markdown",
      "metadata": {
        "id": "VGly3-_0xtet"
      },
      "source": [
        "### Polynomial Regression"
      ]
    },
    {
      "cell_type": "code",
      "metadata": {
        "id": "Mk_ubwAfqYPN"
      },
      "source": [
        "#checking the corrrelation between the variables to be used in the predictive model\n",
        "x = ['away_rank', 'home_rank','tournament','home_score','away_score']\n",
        "\n",
        "sns.pairplot(df_copy[x])\n",
        "plt.show()"
      ],
      "execution_count": null,
      "outputs": []
    },
    {
      "cell_type": "markdown",
      "metadata": {
        "id": "8DtrrMbFrCjd"
      },
      "source": [
        "\n",
        "\n",
        "> The scatter plots above show that there is linear relationship between our variables of interest hence we will use the polynomial regression.\n",
        "\n"
      ]
    },
    {
      "cell_type": "markdown",
      "metadata": {
        "id": "iqx3yCT-x9Yk"
      },
      "source": [
        "#### Predicting Home Team Score"
      ]
    },
    {
      "cell_type": "markdown",
      "metadata": {
        "id": "bdd4ewvazJaC"
      },
      "source": [
        "#####Checking for Multicollinearity"
      ]
    },
    {
      "cell_type": "code",
      "metadata": {
        "id": "amrOL0P2xtNR"
      },
      "source": [
        "#Declaring our Independent and Deendent variables \n",
        "X = df_copy[['home_rank', 'away_rank','tournament']]\n",
        "y = df_copy['home_score']\n"
      ],
      "execution_count": null,
      "outputs": []
    },
    {
      "cell_type": "code",
      "metadata": {
        "id": "6oPV52KeyN__"
      },
      "source": [
        "# We will first chech the correlation between out independent variables that shall be used in the analysis\n",
        "X.corr()"
      ],
      "execution_count": null,
      "outputs": []
    },
    {
      "cell_type": "markdown",
      "metadata": {
        "id": "TYbQXWSkjll7"
      },
      "source": [
        "The correlation between the independent variables is very low."
      ]
    },
    {
      "cell_type": "code",
      "metadata": {
        "id": "xLOuffDlBi4L"
      },
      "source": [
        "# Checking for Multicollinearity\n",
        "# VIF dataframe \n",
        "vif = pd.DataFrame()\n",
        "vif[\"VIF Factor\"] = [variance_inflation_factor(X.values, i) for i in range(X.shape[1])]\n",
        "vif[\"features\"] = X.columns\n",
        "vif"
      ],
      "execution_count": null,
      "outputs": []
    },
    {
      "cell_type": "markdown",
      "metadata": {
        "id": "QTeCgOeSkFsw"
      },
      "source": [
        "\n",
        "\n",
        "> The variance inflation factors among our variables are less than 5. This means that than the correlations are low enough for us to proceed with the regression model.\n",
        "\n"
      ]
    },
    {
      "cell_type": "code",
      "metadata": {
        "id": "C7FUlFw4yN7X"
      },
      "source": [
        "# Split the dataset into train and test sets\n",
        "X_train, y_train, X_test, y_test = train_test_split(X,y, test_size = 0.2, random_state=0)\n",
        "\n",
        "from sklearn.preprocessing import PolynomialFeatures\n",
        "# Fit polynomial Regression to the dataset\n",
        "poly_reg = PolynomialFeatures(degree = 4) \n",
        "X_poly = poly_reg.fit_transform(X)\n",
        "\n",
        "pol_reg = LinearRegression()\n",
        "pol_reg.fit(X_poly, y)"
      ],
      "execution_count": null,
      "outputs": []
    },
    {
      "cell_type": "code",
      "metadata": {
        "id": "Bpn5uynnyN34"
      },
      "source": [
        "# Running the prediction\n",
        "y_pred = pol_reg.predict(X_poly)\n",
        "y_pred"
      ],
      "execution_count": null,
      "outputs": []
    },
    {
      "cell_type": "code",
      "metadata": {
        "id": "Jy1N1TTd_C-w"
      },
      "source": [
        "pd.DataFrame(pol_reg.coef_.flatten())"
      ],
      "execution_count": null,
      "outputs": []
    },
    {
      "cell_type": "code",
      "metadata": {
        "id": "ng7EzgpIyN1X"
      },
      "source": [
        "# evaluating our model\n",
        "from sklearn import metrics\n",
        "from sklearn.metrics import mean_squared_error, r2_score\n",
        "rmse = np.sqrt(mean_squared_error(y, y_pred))\n",
        "r2 = r2_score(y, y_pred)\n",
        "print('The Rmse of the model is : ' ,rmse)\n",
        "print('The mean of y is         : ', y.mean())\n",
        "print('The R2 value is          : ', r2)"
      ],
      "execution_count": null,
      "outputs": []
    },
    {
      "cell_type": "markdown",
      "metadata": {
        "id": "iKZgD3O_lCc0"
      },
      "source": [
        "\n",
        "\n",
        "> The Rmsea is almost equal to the mean we are trying to predict. We need to re assess our model and our X variables to come up with a better model.\n",
        "\n"
      ]
    },
    {
      "cell_type": "markdown",
      "metadata": {
        "id": "wj2yKTZ0Igbv"
      },
      "source": [
        "#####Cross validation\n",
        "\n",
        "Use K-Fold cross validation"
      ]
    },
    {
      "cell_type": "code",
      "metadata": {
        "id": "QC7tocNYGYvy"
      },
      "source": [
        "from sklearn.model_selection import LeaveOneOut\n",
        "\n",
        "X = df_copy[['away_rank', 'home_rank','tournament']].values\n",
        "y = df_copy['home_score'].values\n",
        "\n",
        "folds = LeaveOneOut()\n",
        "\n",
        "\n",
        "print('we are using ' +str(folds.get_n_splits(X)) + ' folds')\n",
        "\n",
        "\n",
        "RMSES = [] \n",
        "count = 0  \n",
        "for train_index, test_index in folds.split(X):\n",
        "  X_train, X_test = X[train_index], X[test_index]\n",
        "  y_train, y_test = y[train_index], y[test_index]\n",
        "  \n",
        "  # fit a model accordingly\n",
        "  regressor = LinearRegression()  \n",
        "  regressor.fit(X_train, y_train)\n",
        "  \n",
        "  # assess the accuraccy of the model\n",
        "  y_pred = regressor.predict(X_test)\n",
        "  \n",
        "  rmse_value =  np.sqrt(metrics.mean_squared_error(y_test, y_pred))\n",
        "  RMSES.append(rmse_value)\n",
        "  \n",
        "  count = count + 1\n",
        "print('trained ' + str(count) + ' models' )\n",
        "print(f'Mean RMSE : {np.mean(RMSES)}')"
      ],
      "execution_count": null,
      "outputs": []
    },
    {
      "cell_type": "markdown",
      "metadata": {
        "id": "G27UwVrV0cQU"
      },
      "source": [
        "#### Predicting Away score"
      ]
    },
    {
      "cell_type": "code",
      "metadata": {
        "id": "KFC4t5G90bo8"
      },
      "source": [
        "#Declaring our Independent and Dependent variables \n",
        "X = df_copy[['away_rank', 'home_rank','tournament']]\n",
        "y = df_copy['away_score']\n",
        "X.corr()"
      ],
      "execution_count": null,
      "outputs": []
    },
    {
      "cell_type": "markdown",
      "metadata": {
        "id": "El0pWYImliA5"
      },
      "source": [
        "\n",
        "\n",
        "> The correlation between the independent variables is very low.\n",
        "\n"
      ]
    },
    {
      "cell_type": "code",
      "metadata": {
        "id": "9HeiJsS6yNyd"
      },
      "source": [
        "# Checking for Multicollinearity\n",
        "# VIF dataframe \n",
        "vif_data = pd.DataFrame() \n",
        "vif_data[\"feature\"] = X.columns \n",
        "  \n",
        "# calculating VIF for each feature \n",
        "vif_data[\"VIF\"] = [variance_inflation_factor(X.values, i) \n",
        "                         for i in range(len(X.columns))] \n",
        "  \n",
        "print(vif_data)"
      ],
      "execution_count": null,
      "outputs": []
    },
    {
      "cell_type": "markdown",
      "metadata": {
        "id": "FiR3eY3cll_d"
      },
      "source": [
        "\n",
        "\n",
        "> The variance inflation factors among our variables are less than 5. This means that than the correlations are low enough for us to proceed with the regression model.\n",
        "\n"
      ]
    },
    {
      "cell_type": "code",
      "metadata": {
        "id": "ExBcPkNzyNvj"
      },
      "source": [
        "# Split the dataset into train and test sets\n",
        "X_train, y_train, X_test, y_test = train_test_split(X,y, test_size = 0.2, random_state=0)"
      ],
      "execution_count": null,
      "outputs": []
    },
    {
      "cell_type": "code",
      "metadata": {
        "id": "lx0wzQMKyNsR"
      },
      "source": [
        "# Fit polynomial Regression to the dataset\n",
        "poly_reg = PolynomialFeatures(degree = 6) \n",
        "X_poly = poly_reg.fit_transform(X)\n",
        "\n",
        "pol_reg = LinearRegression()\n",
        "pol_reg.fit(X_poly, y)"
      ],
      "execution_count": null,
      "outputs": []
    },
    {
      "cell_type": "code",
      "metadata": {
        "id": "fetwJ45k09Ql"
      },
      "source": [
        "# Running the prediction\n",
        "y_pred = pol_reg.predict(X_poly)\n",
        "y_pred"
      ],
      "execution_count": null,
      "outputs": []
    },
    {
      "cell_type": "code",
      "metadata": {
        "id": "0wuHXlEU09HB"
      },
      "source": [
        "# evaluating our model\n",
        "from sklearn import metrics\n",
        "from sklearn.metrics import mean_squared_error, r2_score\n",
        "rmse = np.sqrt(mean_squared_error(y, y_pred))\n",
        "r2 = r2_score(y, y_pred)\n",
        "print('The Rmse of the model is : ' ,rmse)\n",
        "print('The mean of y is         : ', y.mean())\n",
        "print('The R2 value is          : ', r2)"
      ],
      "execution_count": null,
      "outputs": []
    },
    {
      "cell_type": "markdown",
      "metadata": {
        "id": "WOeF-PKdF0wf"
      },
      "source": [
        "#####Cross validation\n",
        "\n",
        "Use K-Fold cross validation"
      ]
    },
    {
      "cell_type": "code",
      "metadata": {
        "id": "ENsJSZTFJ6ZI"
      },
      "source": [
        "from sklearn.model_selection import LeaveOneOut\n",
        "\n",
        "X = df_copy[['away_rank', 'home_rank','tournament']].values\n",
        "y = df_copy['away_score'].values\n",
        "\n",
        "folds = LeaveOneOut()\n",
        "\n",
        "\n",
        "print('we are using ' +str(folds.get_n_splits(X)) + ' folds')\n",
        "\n",
        "\n",
        "RMSES = [] \n",
        "count = 0  \n",
        "for train_index, test_index in folds.split(X):\n",
        "  X_train, X_test = X[train_index], X[test_index]\n",
        "  y_train, y_test = y[train_index], y[test_index]\n",
        "  \n",
        "  # fit a model accordingly\n",
        "  regressor = LinearRegression()  \n",
        "  regressor.fit(X_train, y_train)\n",
        "  \n",
        "  # assess the accuraccy of the model\n",
        "  y_pred = regressor.predict(X_test)\n",
        "  \n",
        "  rmse_value =  np.sqrt(metrics.mean_squared_error(y_test, y_pred))\n",
        "  RMSES.append(rmse_value)\n",
        "  \n",
        "  count = count + 1\n",
        "print('trained ' + str(count) + ' models' )\n",
        "print(f'Mean RMSE : {np.mean(RMSES)}')"
      ],
      "execution_count": null,
      "outputs": []
    },
    {
      "cell_type": "markdown",
      "metadata": {
        "id": "fH5X5_MLl5LH"
      },
      "source": [
        "\n",
        "\n",
        "> The Rmsea is almost equal to the mean we are trying to predict. We need to re assess our model and our X variables to come up with a better model.\n",
        "\n"
      ]
    },
    {
      "cell_type": "markdown",
      "metadata": {
        "id": "21Q0UFPscadt"
      },
      "source": [
        "### Logistic Regression"
      ]
    },
    {
      "cell_type": "markdown",
      "metadata": {
        "id": "pGlTBkc4o6V9"
      },
      "source": [
        "\n",
        "\n",
        "> Logistic regression is used since were are trying to predict win, lose or draw, which are a classification kind of prediction.\n",
        "\n"
      ]
    },
    {
      "cell_type": "code",
      "metadata": {
        "id": "l-zdv8qdcdTe"
      },
      "source": [
        "# Checking our target variable\n",
        "import seaborn as sns\n",
        "sns.countplot(x='outcome',data=df_copy, palette='hls')"
      ],
      "execution_count": null,
      "outputs": []
    },
    {
      "cell_type": "code",
      "metadata": {
        "id": "ru_bNgXOdBlP"
      },
      "source": [
        "# Checking for independence between features¶\n",
        "# \n",
        "plt.figure(figsize = (20,10))\n",
        "sns.heatmap(df_copy.corr(), annot=True)  "
      ],
      "execution_count": null,
      "outputs": []
    },
    {
      "cell_type": "code",
      "metadata": {
        "id": "dXsz_l0oe3eo"
      },
      "source": [
        "# Splitting our dataset\n",
        "# We will drop all non-numerical data and data we have not encoded in our dataframe\n",
        "X = df_copy.drop([\"outcome\",'date', 'home_team', 'away_team','away_team.1','year','month','margin', 'confederation', 'tournament'],axis=1)\n",
        "y = df_copy[\"outcome\"]"
      ],
      "execution_count": null,
      "outputs": []
    },
    {
      "cell_type": "code",
      "metadata": {
        "id": "NdWYNzmDg4od"
      },
      "source": [
        "# Spliting the data into training and testing sets\n",
        "X_train, X_test, y_train, y_test = train_test_split(X, y, test_size = 0.2, random_state=0)\n",
        "\n",
        "# Fitting our model\n",
        "# \n",
        "from sklearn.linear_model import LogisticRegression\n",
        "\n",
        "LogReg = LogisticRegression()\n",
        "LogReg.fit(X_train, y_train)\n",
        "\n",
        "# Using our model to make a prediction\n",
        "#\n",
        "y_pred = LogReg.predict(X_test)"
      ],
      "execution_count": null,
      "outputs": []
    },
    {
      "cell_type": "code",
      "metadata": {
        "id": "GBcAYQgogU1F"
      },
      "source": [
        "# Measuring the accuracy of the model\n",
        "#\n",
        "from sklearn.metrics import accuracy_score\n",
        "print(f'The accuracy of the model is {accuracy_score(y_test, y_pred)}')"
      ],
      "execution_count": null,
      "outputs": []
    },
    {
      "cell_type": "code",
      "metadata": {
        "id": "IgboBcwDfLLt"
      },
      "source": [
        "# Evaluating the model\n",
        "from sklearn.metrics import confusion_matrix\n",
        "confusion_matrix = confusion_matrix(y_test, y_pred)\n",
        "confusion_matrix"
      ],
      "execution_count": null,
      "outputs": []
    },
    {
      "cell_type": "markdown",
      "metadata": {
        "id": "QUXpB2GBT4xH"
      },
      "source": [
        "The correctness of the model shown above is 100%.\n",
        "We must reconsider our model because it is definitely overfitting on the training data."
      ]
    },
    {
      "cell_type": "code",
      "metadata": {
        "id": "w6BYueru5cmn"
      },
      "source": [
        "# Checking for Residuals in our predicted values\n",
        "\n",
        "residuals = y_pred - y_test\n",
        "\n",
        "# Plotting the prediction errors\n",
        "\n",
        "plt.scatter(y_pred, residuals, color='blue')\n",
        "plt.title('Residual Plot')\n",
        "plt.ylabel('residuals')\n",
        "plt.xlabel('fitted values')\n",
        "plt.axhline(y= residuals.mean(), color='green')\n",
        "plt.show()\n",
        "\n",
        "# There are no residuals"
      ],
      "execution_count": null,
      "outputs": []
    },
    {
      "cell_type": "code",
      "metadata": {
        "id": "eoRAFV0y9Vj5"
      },
      "source": [
        "import scipy as sp\n",
        "\n",
        "test_result, p_value = sp.stats.bartlett(y_pred, residuals)\n",
        "\n",
        "# To interpret the results we must also compute a critical value of the chi squared distribution\n",
        "degree_of_freedom = len(y_pred)-1\n",
        "probability = 1 - p_value\n",
        "\n",
        "critical_value = sp.stats.chi2.ppf(probability, degree_of_freedom)\n",
        "print(critical_value)\n",
        "\n",
        "# If the test_result is greater than the critical value, then we reject our null\n",
        "# hypothesis. This would mean that there are patterns to the variance of the data\n",
        "\n",
        "# Otherwise, we can identify no patterns, and we accept the null hypothesis that \n",
        "# the variance is homogeneous across our data\n",
        "\n",
        "if (test_result > critical_value):\n",
        "  print('the variances are unequal, and the model should be reassessed')\n",
        "  print('The errors seem to follow a certain pattern')\n",
        "else:\n",
        "  print('the variances are homogeneous!')\n",
        "  print('There is no pattern to the errors.')\n"
      ],
      "execution_count": null,
      "outputs": []
    },
    {
      "cell_type": "markdown",
      "metadata": {
        "id": "mPXa91aS3jvG"
      },
      "source": [
        "### Hyperparameter Tuning"
      ]
    },
    {
      "cell_type": "markdown",
      "metadata": {
        "id": "dbW4rfki34TL"
      },
      "source": [
        "**Random Search**"
      ]
    },
    {
      "cell_type": "markdown",
      "metadata": {
        "id": "lNUf2aI2on6V"
      },
      "source": [
        "\n",
        "\n",
        "> We will use Random search becauseit  works best for lower dimensional data,it takes less time and has fewer iterations to find the right set. When there are fewer dimensions, random search is the best parameter search technique.\n",
        "\n"
      ]
    },
    {
      "cell_type": "code",
      "metadata": {
        "id": "hVVWg8Xh1F9r"
      },
      "source": [
        "#Defining our X and Y\n",
        "X = df2.drop(['outcome','date', 'home_team','away_team.1', 'away_team','year','month','margin', 'confederation', 'tournament'],axis=1)\n",
        "y = df2['outcome']\n",
        "\n",
        "# Performing Data Preprocessing\n",
        "# ---\n",
        "X_train, X_test, y_train, y_test = train_test_split(X, y)"
      ],
      "execution_count": null,
      "outputs": []
    },
    {
      "cell_type": "code",
      "metadata": {
        "id": "eX_aJlpv1F0A"
      },
      "source": [
        "from sklearn.model_selection import RepeatedStratifiedKFold\n",
        "from sklearn.model_selection import RandomizedSearchCV\n",
        "from scipy.stats import uniform\n",
        "\n",
        "# define model\n",
        "logistic = LogisticRegression(solver='saga', tol=1e-2, max_iter=200,random_state=0)\n",
        "\n",
        "distributions = dict(C=uniform(loc=0, scale=4),penalty=['l2', 'l1'])\n",
        "\n",
        "clf = RandomizedSearchCV(logistic, distributions, random_state=0)\n",
        "\n",
        "search = clf.fit(X,y)\n",
        "\n",
        "search.best_params_"
      ],
      "execution_count": null,
      "outputs": []
    },
    {
      "cell_type": "code",
      "metadata": {
        "id": "fsk8a4tf1Fux"
      },
      "source": [
        "#Random Search\n",
        "\n",
        "from scipy.stats import randint as sp_randint\n",
        "from sklearn.ensemble import RandomForestClassifier\n",
        "\n",
        "param_dist = {\"max_depth\": [3, None],\n",
        "              \"max_features\": sp_randint(1, 11),\n",
        "              \"min_samples_split\": sp_randint(2, 11),\n",
        "              \"bootstrap\": [True, False],\n",
        "              \"criterion\": [\"gini\", \"entropy\"]}\n",
        "\n",
        "# Instantiating RandomizedSearchCV object \n",
        "from sklearn.model_selection import RandomizedSearchCV \n",
        "classifier = RandomForestClassifier(n_estimators=300, random_state=0)\n",
        "random_sr = RandomizedSearchCV(classifier, param_dist, cv = 5) \n",
        "\n",
        "# Calling the fit method\n",
        "\n",
        "random_sr.fit(X_train, y_train)\n",
        "\n",
        "#Checking the parameters that return the highest accuracy\n",
        "\n",
        "best_parameters = random_sr.best_params_\n",
        "print(best_parameters)\n",
        "\n",
        "# Finding the obtained accuracy\n",
        "best_result = random_sr.best_score_\n",
        "print(best_result)\n",
        "\n",
        "# using the parameters generated below would yield an accuracy of 99.97% for our model."
      ],
      "execution_count": null,
      "outputs": []
    },
    {
      "cell_type": "markdown",
      "metadata": {
        "id": "87DSDei6ndZw"
      },
      "source": [
        "\n",
        "\n",
        "> In this case, we can see that the best configuration achieved a fairly high accuracy of around 99.9 percent, and the specific values for the  penalty(11), and C hyperparameters (2.195254015709299) used to achieve that score.\n",
        "\n"
      ]
    },
    {
      "cell_type": "markdown",
      "metadata": {
        "id": "cO6zM-Da-u6O"
      },
      "source": [
        "# Challenge Your Solution"
      ]
    },
    {
      "cell_type": "markdown",
      "metadata": {
        "id": "TKZYatxEr7oK"
      },
      "source": [
        "\n",
        "\n",
        "> Because the RMSE produced by our Polynomial Regression prediction models was not ideal,it was almost equal to the predicted mean, the models were quite ineffective. As a result, we may need to use other prediction models to accurately predict our home and away scores or used of other variables to achieve better results.\n",
        "\n"
      ]
    },
    {
      "cell_type": "markdown",
      "metadata": {
        "id": "_cDIlMuW-zyy"
      },
      "source": [
        "**Did we have the right data?**\n",
        "\n",
        "\n",
        "\n",
        ">  Yes we did because it has the information we need to do our predictons. \n",
        " The data did generate problems in trying to merge the different dataset. In future better/ more relatable dataset should be prodided for better analysis and prediction.\n",
        "\n",
        "\n",
        "\n"
      ]
    }
  ]
}